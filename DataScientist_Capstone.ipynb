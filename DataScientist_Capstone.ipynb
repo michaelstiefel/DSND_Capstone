{
 "cells": [
  {
   "cell_type": "code",
   "execution_count": 34,
   "id": "02ee8eaf-686c-4b94-a9cd-176619beec68",
   "metadata": {
    "execution": {
     "iopub.execute_input": "2022-03-25T12:25:59.873684Z",
     "iopub.status.busy": "2022-03-25T12:25:59.873156Z",
     "iopub.status.idle": "2022-03-25T12:26:00.226301Z",
     "shell.execute_reply": "2022-03-25T12:26:00.225505Z",
     "shell.execute_reply.started": "2022-03-25T12:25:59.873650Z"
    },
    "tags": []
   },
   "outputs": [
    {
     "data": {
      "application/vnd.jupyter.widget-view+json": {
       "model_id": "cf11f127535149c5955e107b99f03032",
       "version_major": 2,
       "version_minor": 0
      },
      "text/plain": [
       "VBox()"
      ]
     },
     "metadata": {},
     "output_type": "display_data"
    },
    {
     "data": {
      "application/vnd.jupyter.widget-view+json": {
       "model_id": "",
       "version_major": 2,
       "version_minor": 0
      },
      "text/plain": [
       "FloatProgress(value=0.0, bar_style='info', description='Progress:', layout=Layout(height='25px', width='50%'),…"
      ]
     },
     "metadata": {},
     "output_type": "display_data"
    }
   ],
   "source": [
    "# import libraries\n",
    "import numpy as np\n",
    "from pyspark.sql import SparkSession\n",
    "import pyspark.sql.functions as F\n",
    "from pyspark.sql.types import IntegerType, StringType\n",
    "from pyspark.ml.feature import StringIndexer, VectorAssembler, StandardScaler\n",
    "from pyspark.ml.tuning import CrossValidator, ParamGridBuilder\n",
    "from pyspark.ml.classification import LogisticRegression, RandomForestClassifier, GBTClassifier\n",
    "from pyspark.ml import Pipeline\n",
    "#from pyspark.ml.evaluation import BinaryClassificationEvaluator"
   ]
  },
  {
   "cell_type": "code",
   "execution_count": 2,
   "id": "f546d5e6-2772-404b-955b-96ecad91f252",
   "metadata": {
    "execution": {
     "iopub.execute_input": "2022-03-25T07:34:52.280948Z",
     "iopub.status.busy": "2022-03-25T07:34:52.280679Z",
     "iopub.status.idle": "2022-03-25T07:34:53.810658Z",
     "shell.execute_reply": "2022-03-25T07:34:53.809791Z",
     "shell.execute_reply.started": "2022-03-25T07:34:52.280908Z"
    },
    "tags": []
   },
   "outputs": [
    {
     "data": {
      "application/vnd.jupyter.widget-view+json": {
       "model_id": "209797aed48b4984afa012db224d62b9",
       "version_major": 2,
       "version_minor": 0
      },
      "text/plain": [
       "VBox()"
      ]
     },
     "metadata": {},
     "output_type": "display_data"
    },
    {
     "data": {
      "application/vnd.jupyter.widget-view+json": {
       "model_id": "",
       "version_major": 2,
       "version_minor": 0
      },
      "text/plain": [
       "FloatProgress(value=0.0, bar_style='info', description='Progress:', layout=Layout(height='25px', width='50%'),…"
      ]
     },
     "metadata": {},
     "output_type": "display_data"
    }
   ],
   "source": [
    "# create a Spark session\n",
    "spark = SparkSession \\\n",
    "    .builder \\\n",
    "    .appName(\"Sparkify\") \\\n",
    "    .getOrCreate()"
   ]
  },
  {
   "cell_type": "markdown",
   "id": "1d3376c0-2a62-4260-820b-6b33849d031e",
   "metadata": {},
   "source": [
    "## Read in data"
   ]
  },
  {
   "cell_type": "code",
   "execution_count": 46,
   "id": "a4be2467-e238-4fdc-8ace-9cb82c1b40b0",
   "metadata": {
    "execution": {
     "iopub.execute_input": "2022-03-25T14:57:10.922275Z",
     "iopub.status.busy": "2022-03-25T14:57:10.921921Z",
     "iopub.status.idle": "2022-03-25T14:57:46.854574Z",
     "shell.execute_reply": "2022-03-25T14:57:46.853782Z",
     "shell.execute_reply.started": "2022-03-25T14:57:10.922241Z"
    },
    "tags": []
   },
   "outputs": [
    {
     "data": {
      "application/vnd.jupyter.widget-view+json": {
       "model_id": "d9d21e24c86e4b77ac766652fb0859b6",
       "version_major": 2,
       "version_minor": 0
      },
      "text/plain": [
       "VBox()"
      ]
     },
     "metadata": {},
     "output_type": "display_data"
    },
    {
     "data": {
      "application/vnd.jupyter.widget-view+json": {
       "model_id": "",
       "version_major": 2,
       "version_minor": 0
      },
      "text/plain": [
       "FloatProgress(value=0.0, bar_style='info', description='Progress:', layout=Layout(height='25px', width='50%'),…"
      ]
     },
     "metadata": {},
     "output_type": "display_data"
    },
    {
     "name": "stdout",
     "output_type": "stream",
     "text": [
      "Row(artist='Popol Vuh', auth='Logged In', firstName='Shlok', gender='M', itemInSession=278, lastName='Johnson', length=524.32934, level='paid', location='Dallas-Fort Worth-Arlington, TX', method='PUT', page='NextSong', registration=1533734541000, sessionId=22683, song='Ich mache einen Spiegel - Dream Part 4', status=200, ts=1538352001000, userAgent='\"Mozilla/5.0 (Windows NT 6.1; WOW64) AppleWebKit/537.36 (KHTML, like Gecko) Chrome/36.0.1985.143 Safari/537.36\"', userId='1749042')"
     ]
    }
   ],
   "source": [
    "# Read in full sparkify dataset and show first row\n",
    "event_data = \"s3n://udacity-dsnd/sparkify/sparkify_event_data.json\"\n",
    "df = spark.read.json(event_data)\n",
    "df.head()"
   ]
  },
  {
   "cell_type": "markdown",
   "id": "7655e5c2-45cc-4f54-a135-72e5b90127e6",
   "metadata": {},
   "source": [
    "## Explore data"
   ]
  },
  {
   "cell_type": "code",
   "execution_count": 4,
   "id": "49c536b0-7de7-4d23-8170-947e7a0dcba9",
   "metadata": {
    "execution": {
     "iopub.execute_input": "2022-03-25T07:35:29.967590Z",
     "iopub.status.busy": "2022-03-25T07:35:29.967256Z",
     "iopub.status.idle": "2022-03-25T07:35:52.121493Z",
     "shell.execute_reply": "2022-03-25T07:35:52.120379Z",
     "shell.execute_reply.started": "2022-03-25T07:35:29.967550Z"
    },
    "tags": []
   },
   "outputs": [
    {
     "data": {
      "application/vnd.jupyter.widget-view+json": {
       "model_id": "9e14b482230946a4937ebaab4bc63378",
       "version_major": 2,
       "version_minor": 0
      },
      "text/plain": [
       "VBox()"
      ]
     },
     "metadata": {},
     "output_type": "display_data"
    },
    {
     "data": {
      "application/vnd.jupyter.widget-view+json": {
       "model_id": "",
       "version_major": 2,
       "version_minor": 0
      },
      "text/plain": [
       "FloatProgress(value=0.0, bar_style='info', description='Progress:', layout=Layout(height='25px', width='50%'),…"
      ]
     },
     "metadata": {},
     "output_type": "display_data"
    },
    {
     "name": "stdout",
     "output_type": "stream",
     "text": [
      "root\n",
      " |-- artist: string (nullable = true)\n",
      " |-- auth: string (nullable = true)\n",
      " |-- firstName: string (nullable = true)\n",
      " |-- gender: string (nullable = true)\n",
      " |-- itemInSession: long (nullable = true)\n",
      " |-- lastName: string (nullable = true)\n",
      " |-- length: double (nullable = true)\n",
      " |-- level: string (nullable = true)\n",
      " |-- location: string (nullable = true)\n",
      " |-- method: string (nullable = true)\n",
      " |-- page: string (nullable = true)\n",
      " |-- registration: long (nullable = true)\n",
      " |-- sessionId: long (nullable = true)\n",
      " |-- song: string (nullable = true)\n",
      " |-- status: long (nullable = true)\n",
      " |-- ts: long (nullable = true)\n",
      " |-- userAgent: string (nullable = true)\n",
      " |-- userId: string (nullable = true)"
     ]
    }
   ],
   "source": [
    "# Number of rows \n",
    "df.count() # 26259199 entries\n",
    "\n",
    "# Schema\n",
    "df.printSchema()"
   ]
  },
  {
   "cell_type": "code",
   "execution_count": 5,
   "id": "74f6e5c1-92de-47e9-be52-24b66ac8e1d0",
   "metadata": {
    "execution": {
     "iopub.execute_input": "2022-03-25T07:35:52.123209Z",
     "iopub.status.busy": "2022-03-25T07:35:52.122912Z",
     "iopub.status.idle": "2022-03-25T07:36:48.815166Z",
     "shell.execute_reply": "2022-03-25T07:36:48.814077Z",
     "shell.execute_reply.started": "2022-03-25T07:35:52.123169Z"
    },
    "tags": []
   },
   "outputs": [
    {
     "data": {
      "application/vnd.jupyter.widget-view+json": {
       "model_id": "1012543fd0f245e8836da568befffb18",
       "version_major": 2,
       "version_minor": 0
      },
      "text/plain": [
       "VBox()"
      ]
     },
     "metadata": {},
     "output_type": "display_data"
    },
    {
     "data": {
      "application/vnd.jupyter.widget-view+json": {
       "model_id": "",
       "version_major": 2,
       "version_minor": 0
      },
      "text/plain": [
       "FloatProgress(value=0.0, bar_style='info', description='Progress:', layout=Layout(height='25px', width='50%'),…"
      ]
     },
     "metadata": {},
     "output_type": "display_data"
    },
    {
     "name": "stdout",
     "output_type": "stream",
     "text": [
      "[Row(userId='1142513', label=0), Row(userId='1271218', label=0), Row(userId='1972195', label=0), Row(userId='1883991', label=1), Row(userId='1816626', label=0), Row(userId='1766909', label=0), Row(userId='1869054', label=0), Row(userId='1084642', label=0), Row(userId='1344069', label=0), Row(userId='1768352', label=0), Row(userId='1008404', label=1), Row(userId='1670523', label=0), Row(userId='1844759', label=0), Row(userId='1137412', label=0), Row(userId='1274556', label=0), Row(userId='1846298', label=0), Row(userId='1241210', label=1), Row(userId='1011149', label=0), Row(userId='1081344', label=0), Row(userId='1112183', label=0)]"
     ]
    }
   ],
   "source": [
    "# Define Churn by user: This will be a binary column called \"label\". If user has cancelled once, this will be one for this user\n",
    "df = df.withColumn(\"Churn\", F.when(df.page == 'Cancellation Confirmation',1).otherwise(0))\n",
    "df.head()\n",
    "\n",
    "label_user = df.select(\"Churn\", \"userId\").groupBy(\"userId\").sum()\n",
    "label_user = label_user.withColumnRenamed(\"sum(Churn)\", \"ChurnSum\")\n",
    "label_user.head()\n",
    "\n",
    "generate_labels = F.udf(lambda x: 1 if x > 0 else 0, IntegerType())\n",
    "label_user = label_user.withColumn(\"label\", generate_labels(label_user.ChurnSum))\n",
    "label_user = label_user.drop(\"ChurnSum\")\n",
    "label_user.head(20)"
   ]
  },
  {
   "cell_type": "code",
   "execution_count": 6,
   "id": "9e1504c8-3515-4295-a70e-3c8518845409",
   "metadata": {
    "execution": {
     "iopub.execute_input": "2022-03-25T07:36:48.817338Z",
     "iopub.status.busy": "2022-03-25T07:36:48.816719Z",
     "iopub.status.idle": "2022-03-25T07:37:19.026692Z",
     "shell.execute_reply": "2022-03-25T07:37:19.020078Z",
     "shell.execute_reply.started": "2022-03-25T07:36:48.817299Z"
    },
    "tags": []
   },
   "outputs": [
    {
     "data": {
      "application/vnd.jupyter.widget-view+json": {
       "model_id": "acdea0ed9237405f944d5a025dce2df9",
       "version_major": 2,
       "version_minor": 0
      },
      "text/plain": [
       "VBox()"
      ]
     },
     "metadata": {},
     "output_type": "display_data"
    },
    {
     "data": {
      "application/vnd.jupyter.widget-view+json": {
       "model_id": "",
       "version_major": 2,
       "version_minor": 0
      },
      "text/plain": [
       "FloatProgress(value=0.0, bar_style='info', description='Progress:', layout=Layout(height='25px', width='50%'),…"
      ]
     },
     "metadata": {},
     "output_type": "display_data"
    },
    {
     "name": "stdout",
     "output_type": "stream",
     "text": [
      "+-----+-----+\n",
      "|label|count|\n",
      "+-----+-----+\n",
      "|    1| 5003|\n",
      "|    0|17275|\n",
      "+-----+-----+"
     ]
    }
   ],
   "source": [
    "# How many users churned?\n",
    "label_user.groupBy('label').count().orderBy('count').show()"
   ]
  },
  {
   "cell_type": "code",
   "execution_count": 7,
   "id": "9b8274ad-6e28-4019-bcc2-0be30e9ca027",
   "metadata": {
    "execution": {
     "iopub.execute_input": "2022-03-25T07:37:19.031882Z",
     "iopub.status.busy": "2022-03-25T07:37:19.029842Z",
     "iopub.status.idle": "2022-03-25T07:44:57.359867Z",
     "shell.execute_reply": "2022-03-25T07:44:57.359028Z",
     "shell.execute_reply.started": "2022-03-25T07:37:19.031824Z"
    },
    "tags": []
   },
   "outputs": [
    {
     "data": {
      "application/vnd.jupyter.widget-view+json": {
       "model_id": "2a3645e484ff48bc90b7b0feef89dad2",
       "version_major": 2,
       "version_minor": 0
      },
      "text/plain": [
       "VBox()"
      ]
     },
     "metadata": {},
     "output_type": "display_data"
    },
    {
     "data": {
      "application/vnd.jupyter.widget-view+json": {
       "model_id": "",
       "version_major": 2,
       "version_minor": 0
      },
      "text/plain": [
       "FloatProgress(value=0.0, bar_style='info', description='Progress:', layout=Layout(height='25px', width='50%'),…"
      ]
     },
     "metadata": {},
     "output_type": "display_data"
    },
    {
     "name": "stdout",
     "output_type": "stream",
     "text": [
      " The column artist has 5408927 missing values\n",
      " The column auth has 0 missing values\n",
      " The column firstName has 778479 missing values\n",
      " The column gender has 778479 missing values\n",
      " The column itemInSession has 0 missing values\n",
      " The column lastName has 778479 missing values\n",
      " The column length has 5408927 missing values\n",
      " The column level has 0 missing values\n",
      " The column location has 778479 missing values\n",
      " The column method has 0 missing values\n",
      " The column page has 0 missing values\n",
      " The column registration has 778479 missing values\n",
      " The column sessionId has 0 missing values\n",
      " The column song has 5408927 missing values\n",
      " The column status has 0 missing values\n",
      " The column ts has 0 missing values\n",
      " The column userAgent has 778479 missing values\n",
      " The column userId has 0 missing values\n",
      " The column Churn has 0 missing values"
     ]
    }
   ],
   "source": [
    "# Check for invalid or missing data\n",
    "for col in df.columns:\n",
    "    print(f\" The column {col} has {df.filter(df[col].isNull()).count()} missing values\")"
   ]
  },
  {
   "cell_type": "code",
   "execution_count": 8,
   "id": "be213ddb-dad5-41a3-8687-01cc186d030f",
   "metadata": {
    "execution": {
     "iopub.execute_input": "2022-03-25T07:44:57.362227Z",
     "iopub.status.busy": "2022-03-25T07:44:57.361915Z",
     "iopub.status.idle": "2022-03-25T07:44:58.379422Z",
     "shell.execute_reply": "2022-03-25T07:44:58.378266Z",
     "shell.execute_reply.started": "2022-03-25T07:44:57.362187Z"
    },
    "tags": []
   },
   "outputs": [
    {
     "data": {
      "application/vnd.jupyter.widget-view+json": {
       "model_id": "68d128f0baa64b84b0e0817344ce190e",
       "version_major": 2,
       "version_minor": 0
      },
      "text/plain": [
       "VBox()"
      ]
     },
     "metadata": {},
     "output_type": "display_data"
    },
    {
     "data": {
      "application/vnd.jupyter.widget-view+json": {
       "model_id": "",
       "version_major": 2,
       "version_minor": 0
      },
      "text/plain": [
       "FloatProgress(value=0.0, bar_style='info', description='Progress:', layout=Layout(height='25px', width='50%'),…"
      ]
     },
     "metadata": {},
     "output_type": "display_data"
    },
    {
     "name": "stdout",
     "output_type": "stream",
     "text": [
      "[Row(artist=None, auth='Logged Out', firstName=None, gender=None, itemInSession=87, lastName=None, length=None, level='paid', location=None, method='GET', page='Home', registration=None, sessionId=8615, song=None, status=200, ts=1538352008000, userAgent=None, userId='1261737', Churn=0), Row(artist=None, auth='Logged In', firstName='Valarie', gender='F', itemInSession=206, lastName='Moore', length=None, level='paid', location='Los Angeles-Long Beach-Anaheim, CA', method='GET', page='Home', registration=1537790336000, sessionId=2948, song=None, status=200, ts=1538352008000, userAgent='\"Mozilla/5.0 (Windows NT 5.1) AppleWebKit/537.36 (KHTML, like Gecko) Chrome/36.0.1985.125 Safari/537.36\"', userId='1009070', Churn=0), Row(artist=None, auth='Logged In', firstName='Sophia', gender='F', itemInSession=9, lastName='Dalton', length=None, level='free', location='El Paso, TX', method='PUT', page='Thumbs Up', registration=1536693084000, sessionId=655, song=None, status=307, ts=1538352011000, userAgent='\"Mozilla/5.0 (Macintosh; Intel Mac OS X 10_9_4) AppleWebKit/537.78.2 (KHTML, like Gecko) Version/7.0.6 Safari/537.78.2\"', userId='1526624', Churn=0), Row(artist=None, auth='Logged In', firstName='Anthony', gender='M', itemInSession=12, lastName='Diaz', length=None, level='paid', location='New York-Newark-Jersey City, NY-NJ-PA', method='GET', page='Error', registration=1538045178000, sessionId=11807, song=None, status=404, ts=1538352013000, userAgent='\"Mozilla/5.0 (Macintosh; Intel Mac OS X 10_9_4) AppleWebKit/537.36 (KHTML, like Gecko) Chrome/37.0.2062.94 Safari/537.36\"', userId='1507202', Churn=0), Row(artist=None, auth='Logged In', firstName='Cameron', gender='F', itemInSession=69, lastName='Davis', length=None, level='free', location='Memphis, TN-MS-AR', method='GET', page='Help', registration=1536089370000, sessionId=11234, song=None, status=200, ts=1538352016000, userAgent='\"Mozilla/5.0 (Windows NT 6.1; WOW64) AppleWebKit/537.36 (KHTML, like Gecko) Chrome/36.0.1985.125 Safari/537.36\"', userId='1852704', Churn=0), Row(artist=None, auth='Logged In', firstName='Andres', gender='M', itemInSession=189, lastName='Robles', length=None, level='paid', location='Ocala, FL', method='PUT', page='Thumbs Up', registration=1538099365000, sessionId=646, song=None, status=307, ts=1538352016000, userAgent='\"Mozilla/5.0 (Macintosh; Intel Mac OS X 10_9_4) AppleWebKit/537.78.2 (KHTML, like Gecko) Version/7.0.6 Safari/537.78.2\"', userId='1915980', Churn=0), Row(artist=None, auth='Logged In', firstName='Lance', gender='M', itemInSession=131, lastName='Murray', length=None, level='paid', location='Sacramento--Roseville--Arden-Arcade, CA', method='PUT', page='Add to Playlist', registration=1532102450000, sessionId=22530, song=None, status=200, ts=1538352017000, userAgent='\"Mozilla/5.0 (Windows NT 5.1) AppleWebKit/537.36 (KHTML, like Gecko) Chrome/36.0.1985.143 Safari/537.36\"', userId='1872858', Churn=0), Row(artist=None, auth='Logged In', firstName='Cameron', gender='F', itemInSession=70, lastName='Davis', length=None, level='free', location='Memphis, TN-MS-AR', method='GET', page='Home', registration=1536089370000, sessionId=11234, song=None, status=200, ts=1538352018000, userAgent='\"Mozilla/5.0 (Windows NT 6.1; WOW64) AppleWebKit/537.36 (KHTML, like Gecko) Chrome/36.0.1985.125 Safari/537.36\"', userId='1852704', Churn=0), Row(artist=None, auth='Logged In', firstName='Salvatore', gender='M', itemInSession=34, lastName='Huffman', length=None, level='free', location='Washington-Arlington-Alexandria, DC-VA-MD-WV', method='GET', page='Home', registration=1537382061000, sessionId=10220, song=None, status=200, ts=1538352022000, userAgent='Mozilla/5.0 (X11; Ubuntu; Linux x86_64; rv:31.0) Gecko/20100101 Firefox/31.0', userId='1240184', Churn=0), Row(artist=None, auth='Logged In', firstName='Jonathan', gender='M', itemInSession=30, lastName='Martin', length=None, level='free', location='New York-Newark-Jersey City, NY-NJ-PA', method='GET', page='Roll Advert', registration=1538069376000, sessionId=22483, song=None, status=200, ts=1538352028000, userAgent='\"Mozilla/5.0 (Windows NT 6.1; WOW64) AppleWebKit/537.36 (KHTML, like Gecko) Chrome/36.0.1985.125 Safari/537.36\"', userId='1465194', Churn=0)]"
     ]
    }
   ],
   "source": [
    "# Above computation showed, that there are patterns of missing data: \n",
    "# One cluster in which song information is missing (columns artist, length, song have 5 408 927 missing rows) and one cluster with missing user information (firstName, gender, lastName, location and userAgent missing 778479 rows).\n",
    "# What do those missing rows look like, what is happening there? \n",
    "\n",
    "df.filter(df.artist.isNull()).head(10)"
   ]
  },
  {
   "cell_type": "code",
   "execution_count": 9,
   "id": "5c22ae0c-5eb0-4c8a-96c7-8f399e4f510e",
   "metadata": {
    "execution": {
     "iopub.execute_input": "2022-03-25T07:44:58.381280Z",
     "iopub.status.busy": "2022-03-25T07:44:58.381028Z",
     "iopub.status.idle": "2022-03-25T07:44:58.844686Z",
     "shell.execute_reply": "2022-03-25T07:44:58.843918Z",
     "shell.execute_reply.started": "2022-03-25T07:44:58.381242Z"
    },
    "tags": []
   },
   "outputs": [
    {
     "data": {
      "application/vnd.jupyter.widget-view+json": {
       "model_id": "590c19ea7de748a98e9ab41ca252a583",
       "version_major": 2,
       "version_minor": 0
      },
      "text/plain": [
       "VBox()"
      ]
     },
     "metadata": {},
     "output_type": "display_data"
    },
    {
     "data": {
      "application/vnd.jupyter.widget-view+json": {
       "model_id": "",
       "version_major": 2,
       "version_minor": 0
      },
      "text/plain": [
       "FloatProgress(value=0.0, bar_style='info', description='Progress:', layout=Layout(height='25px', width='50%'),…"
      ]
     },
     "metadata": {},
     "output_type": "display_data"
    },
    {
     "name": "stdout",
     "output_type": "stream",
     "text": [
      "[Row(artist=None, auth='Logged Out', firstName=None, gender=None, itemInSession=87, lastName=None, length=None, level='paid', location=None, method='GET', page='Home', registration=None, sessionId=8615, song=None, status=200, ts=1538352008000, userAgent=None, userId='1261737', Churn=0), Row(artist=None, auth='Logged Out', firstName=None, gender=None, itemInSession=0, lastName=None, length=None, level='free', location=None, method='PUT', page='Login', registration=None, sessionId=7433, song=None, status=307, ts=1538352041000, userAgent=None, userId='1261737', Churn=0), Row(artist=None, auth='Logged Out', firstName=None, gender=None, itemInSession=4, lastName=None, length=None, level='free', location=None, method='GET', page='Home', registration=None, sessionId=25003, song=None, status=200, ts=1538352182000, userAgent=None, userId='1261737', Churn=0), Row(artist=None, auth='Logged Out', firstName=None, gender=None, itemInSession=2, lastName=None, length=None, level='free', location=None, method='GET', page='Home', registration=None, sessionId=9930, song=None, status=200, ts=1538352254000, userAgent=None, userId='1261737', Churn=0), Row(artist=None, auth='Logged Out', firstName=None, gender=None, itemInSession=3, lastName=None, length=None, level='free', location=None, method='PUT', page='Login', registration=None, sessionId=9930, song=None, status=307, ts=1538352255000, userAgent=None, userId='1261737', Churn=0), Row(artist=None, auth='Logged Out', firstName=None, gender=None, itemInSession=0, lastName=None, length=None, level='free', location=None, method='PUT', page='Login', registration=None, sessionId=23471, song=None, status=307, ts=1538352259000, userAgent=None, userId='1261737', Churn=0), Row(artist=None, auth='Logged Out', firstName=None, gender=None, itemInSession=44, lastName=None, length=None, level='free', location=None, method='GET', page='Home', registration=None, sessionId=6317, song=None, status=200, ts=1538352278000, userAgent=None, userId='1261737', Churn=0), Row(artist=None, auth='Logged Out', firstName=None, gender=None, itemInSession=43, lastName=None, length=None, level='free', location=None, method='GET', page='Home', registration=None, sessionId=22951, song=None, status=200, ts=1538352361000, userAgent=None, userId='1261737', Churn=0), Row(artist=None, auth='Logged Out', firstName=None, gender=None, itemInSession=44, lastName=None, length=None, level='free', location=None, method='GET', page='Home', registration=None, sessionId=22951, song=None, status=200, ts=1538352365000, userAgent=None, userId='1261737', Churn=0), Row(artist=None, auth='Logged Out', firstName=None, gender=None, itemInSession=95, lastName=None, length=None, level='paid', location=None, method='GET', page='Home', registration=None, sessionId=6071, song=None, status=200, ts=1538352404000, userAgent=None, userId='1261737', Churn=0)]"
     ]
    }
   ],
   "source": [
    "df.filter(df.firstName.isNull()).head(10)"
   ]
  },
  {
   "cell_type": "code",
   "execution_count": 48,
   "id": "cf6e24c6-d4ac-4edc-ac5c-73bacf9695a8",
   "metadata": {
    "execution": {
     "iopub.execute_input": "2022-03-25T15:00:34.104370Z",
     "iopub.status.busy": "2022-03-25T15:00:34.104113Z",
     "iopub.status.idle": "2022-03-25T15:01:10.256343Z",
     "shell.execute_reply": "2022-03-25T15:01:10.255487Z",
     "shell.execute_reply.started": "2022-03-25T15:00:34.104343Z"
    },
    "tags": []
   },
   "outputs": [
    {
     "data": {
      "application/vnd.jupyter.widget-view+json": {
       "model_id": "d2c3162f85664acfaa632105980a0d8e",
       "version_major": 2,
       "version_minor": 0
      },
      "text/plain": [
       "VBox()"
      ]
     },
     "metadata": {},
     "output_type": "display_data"
    },
    {
     "data": {
      "application/vnd.jupyter.widget-view+json": {
       "model_id": "",
       "version_major": 2,
       "version_minor": 0
      },
      "text/plain": [
       "FloatProgress(value=0.0, bar_style='info', description='Progress:', layout=Layout(height='25px', width='50%'),…"
      ]
     },
     "metadata": {},
     "output_type": "display_data"
    },
    {
     "name": "stdout",
     "output_type": "stream",
     "text": [
      "+--------------------+--------+\n",
      "|                page|   count|\n",
      "+--------------------+--------+\n",
      "| Submit Registration|     401|\n",
      "|            Register|     802|\n",
      "|Cancellation Conf...|    5003|\n",
      "|              Cancel|    5003|\n",
      "|    Submit Downgrade|    6494|\n",
      "|      Submit Upgrade|   15135|\n",
      "|               Error|   25962|\n",
      "|       Save Settings|   29516|\n",
      "|             Upgrade|   50507|\n",
      "|               About|   92759|\n",
      "|            Settings|  147074|\n",
      "|                Help|  155100|\n",
      "|           Downgrade|  184240|\n",
      "|         Thumbs Down|  239212|\n",
      "|              Logout|  296005|\n",
      "|               Login|  296350|\n",
      "|          Add Friend|  381664|\n",
      "|         Roll Advert|  385212|\n",
      "|     Add to Playlist|  597921|\n",
      "|           Thumbs Up| 1151465|\n",
      "|                Home| 1343102|\n",
      "|            NextSong|20850272|\n",
      "+--------------------+--------+"
     ]
    }
   ],
   "source": [
    "# Illustrate different outcomes in \"page\" column\n",
    "df.groupBy('page').count().orderBy('count').show(50)"
   ]
  },
  {
   "cell_type": "code",
   "execution_count": 11,
   "id": "91144728-9756-4465-8422-9063b9abcc71",
   "metadata": {
    "execution": {
     "iopub.execute_input": "2022-03-25T07:45:23.588722Z",
     "iopub.status.busy": "2022-03-25T07:45:23.588055Z",
     "iopub.status.idle": "2022-03-25T07:46:44.885655Z",
     "shell.execute_reply": "2022-03-25T07:46:44.882520Z",
     "shell.execute_reply.started": "2022-03-25T07:45:23.588599Z"
    },
    "tags": []
   },
   "outputs": [
    {
     "data": {
      "application/vnd.jupyter.widget-view+json": {
       "model_id": "e2e5e3020e344d70a1525d4d0e6b57b1",
       "version_major": 2,
       "version_minor": 0
      },
      "text/plain": [
       "VBox()"
      ]
     },
     "metadata": {},
     "output_type": "display_data"
    },
    {
     "data": {
      "application/vnd.jupyter.widget-view+json": {
       "model_id": "",
       "version_major": 2,
       "version_minor": 0
      },
      "text/plain": [
       "FloatProgress(value=0.0, bar_style='info', description='Progress:', layout=Layout(height='25px', width='50%'),…"
      ]
     },
     "metadata": {},
     "output_type": "display_data"
    },
    {
     "name": "stdout",
     "output_type": "stream",
     "text": [
      "root\n",
      " |-- userId: string (nullable = true)\n",
      " |-- About: long (nullable = true)\n",
      " |-- Add Friend: long (nullable = true)\n",
      " |-- Add to Playlist: long (nullable = true)\n",
      " |-- Cancel: long (nullable = true)\n",
      " |-- Cancellation Confirmation: long (nullable = true)\n",
      " |-- Downgrade: long (nullable = true)\n",
      " |-- Error: long (nullable = true)\n",
      " |-- Help: long (nullable = true)\n",
      " |-- Home: long (nullable = true)\n",
      " |-- Login: long (nullable = true)\n",
      " |-- Logout: long (nullable = true)\n",
      " |-- NextSong: long (nullable = true)\n",
      " |-- Register: long (nullable = true)\n",
      " |-- Roll Advert: long (nullable = true)\n",
      " |-- Save Settings: long (nullable = true)\n",
      " |-- Settings: long (nullable = true)\n",
      " |-- Submit Downgrade: long (nullable = true)\n",
      " |-- Submit Registration: long (nullable = true)\n",
      " |-- Submit Upgrade: long (nullable = true)\n",
      " |-- Thumbs Down: long (nullable = true)\n",
      " |-- Thumbs Up: long (nullable = true)\n",
      " |-- Upgrade: long (nullable = true)\n",
      "\n",
      "[Row(userId='1114507', SharePositiveInteractions=0.8880382775119617, ShareNegativeInteractions=0.02583732057416268), Row(userId='1338783', SharePositiveInteractions=0.9210789210789211, ShareNegativeInteractions=0.024475524475524476), Row(userId='1567623', SharePositiveInteractions=0.9192727272727272, ShareNegativeInteractions=0.019636363636363636)]"
     ]
    }
   ],
   "source": [
    "# Those missing data seems to contain still relevant info in the \"page\" section:\n",
    "# Users are visiting the Help section, getting an error, down- or upgrading songs.\n",
    "# In order to keep this useful information, we count those occurences by user and then compute summary statistics about positive and negative interactions\n",
    "# Prepare pages by user field \n",
    "\n",
    "pages_by_user = df.groupBy(['userId']).pivot('page').count().fillna(0)\n",
    "pages_by_user.head()\n",
    "pages_by_user.printSchema()\n",
    "\n",
    "\n",
    "cols_to_sum_over = [element for element in pages_by_user.columns if element != 'userId']\n",
    "\n",
    "\n",
    "\n",
    "pages_by_user = pages_by_user.withColumn(\"TotalInteractions\", sum(pages_by_user[col] for col in cols_to_sum_over))\n",
    "pages_by_user = pages_by_user.withColumn(\"PositiveInteractions\", F.col('Add Friend') + F.col('Add to Playlist') + F.col('NextSong') + F.col('Thumbs Up') + F.col('Upgrade'))\n",
    "pages_by_user = pages_by_user.withColumn(\"NegativeInteractions\", F.col('Submit Downgrade') + F.col('Error') + F.col('Help') + F.col('Downgrade') + F.col('Thumbs Down'))\n",
    "pages_by_user = pages_by_user.withColumn(\"SharePositiveInteractions\", F.col(\"PositiveInteractions\") / F.col(\"TotalInteractions\"))\n",
    "pages_by_user = pages_by_user.withColumn(\"ShareNegativeInteractions\", F.col(\"NegativeInteractions\") / F.col(\"TotalInteractions\"))\n",
    "pages_by_user = pages_by_user.select(F.col('userId'), F.col('SharePositiveInteractions'), F.col('ShareNegativeInteractions'))\n",
    "pages_by_user.head(3)\n",
    "\n",
    "\n"
   ]
  },
  {
   "cell_type": "markdown",
   "id": "15fda4f2-f865-4a5e-ba12-774d7f79c6bb",
   "metadata": {},
   "source": [
    "## Remove missing user data\n"
   ]
  },
  {
   "cell_type": "code",
   "execution_count": 12,
   "id": "e944693a-7eb3-40bd-8b3c-ba7b14704bee",
   "metadata": {
    "execution": {
     "iopub.execute_input": "2022-03-25T07:46:44.894904Z",
     "iopub.status.busy": "2022-03-25T07:46:44.893234Z",
     "iopub.status.idle": "2022-03-25T07:46:45.212340Z",
     "shell.execute_reply": "2022-03-25T07:46:45.211277Z",
     "shell.execute_reply.started": "2022-03-25T07:46:44.894784Z"
    },
    "tags": []
   },
   "outputs": [
    {
     "data": {
      "application/vnd.jupyter.widget-view+json": {
       "model_id": "753daa27c868459998b4152b3723334f",
       "version_major": 2,
       "version_minor": 0
      },
      "text/plain": [
       "VBox()"
      ]
     },
     "metadata": {},
     "output_type": "display_data"
    },
    {
     "data": {
      "application/vnd.jupyter.widget-view+json": {
       "model_id": "",
       "version_major": 2,
       "version_minor": 0
      },
      "text/plain": [
       "FloatProgress(value=0.0, bar_style='info', description='Progress:', layout=Layout(height='25px', width='50%'),…"
      ]
     },
     "metadata": {},
     "output_type": "display_data"
    }
   ],
   "source": [
    "df = df.dropna(how='any', subset=['artist', 'firstName'])\n",
    "\n"
   ]
  },
  {
   "cell_type": "markdown",
   "id": "a7cd87ad-94fa-4d05-9374-740f04f1bdf9",
   "metadata": {},
   "source": [
    "## Feature Engineering \n",
    "\n"
   ]
  },
  {
   "cell_type": "code",
   "execution_count": 14,
   "id": "ed6cb955-c1c2-4dfc-b984-f5418850a4e3",
   "metadata": {
    "execution": {
     "iopub.execute_input": "2022-03-25T07:47:11.321903Z",
     "iopub.status.busy": "2022-03-25T07:47:11.321523Z",
     "iopub.status.idle": "2022-03-25T07:47:11.852020Z",
     "shell.execute_reply": "2022-03-25T07:47:11.851253Z",
     "shell.execute_reply.started": "2022-03-25T07:47:11.321864Z"
    },
    "tags": []
   },
   "outputs": [
    {
     "data": {
      "application/vnd.jupyter.widget-view+json": {
       "model_id": "964c8ce36e66489e9e30ea850a1516bd",
       "version_major": 2,
       "version_minor": 0
      },
      "text/plain": [
       "VBox()"
      ]
     },
     "metadata": {},
     "output_type": "display_data"
    },
    {
     "data": {
      "application/vnd.jupyter.widget-view+json": {
       "model_id": "",
       "version_major": 2,
       "version_minor": 0
      },
      "text/plain": [
       "FloatProgress(value=0.0, bar_style='info', description='Progress:', layout=Layout(height='25px', width='50%'),…"
      ]
     },
     "metadata": {},
     "output_type": "display_data"
    }
   ],
   "source": [
    "# Timestamp column - extract number of days registered\n",
    "df = df.withColumn(\"TimeRegistered\", df.ts - df.registration)\n",
    "df = df.withColumn(\"TimeRegisteredSeconds\", df.TimeRegistered / 1000)\n",
    "df = df.withColumn(\"DaysRegistered\", F.ceil(df.TimeRegisteredSeconds / (60*60*24)))"
   ]
  },
  {
   "cell_type": "code",
   "execution_count": 15,
   "id": "5fd239f5-a8ed-4a28-9eff-c5dd0a2aa112",
   "metadata": {
    "execution": {
     "iopub.execute_input": "2022-03-25T07:47:11.854447Z",
     "iopub.status.busy": "2022-03-25T07:47:11.853790Z",
     "iopub.status.idle": "2022-03-25T07:47:12.114923Z",
     "shell.execute_reply": "2022-03-25T07:47:12.114063Z",
     "shell.execute_reply.started": "2022-03-25T07:47:11.854357Z"
    },
    "tags": []
   },
   "outputs": [
    {
     "data": {
      "application/vnd.jupyter.widget-view+json": {
       "model_id": "db116b8404a647bc96d52eae9274e35a",
       "version_major": 2,
       "version_minor": 0
      },
      "text/plain": [
       "VBox()"
      ]
     },
     "metadata": {},
     "output_type": "display_data"
    },
    {
     "data": {
      "application/vnd.jupyter.widget-view+json": {
       "model_id": "",
       "version_major": 2,
       "version_minor": 0
      },
      "text/plain": [
       "FloatProgress(value=0.0, bar_style='info', description='Progress:', layout=Layout(height='25px', width='50%'),…"
      ]
     },
     "metadata": {},
     "output_type": "display_data"
    }
   ],
   "source": [
    "# Count the number of different songs a user has listend to\n",
    "songs_by_user = df.select('userId', 'song').dropDuplicates().groupBy('userId').count()\n",
    "songs_by_user = songs_by_user.withColumnRenamed(\"count\", \"NumberOfDifferentSongs\")"
   ]
  },
  {
   "cell_type": "code",
   "execution_count": 16,
   "id": "f13fd4aa-4e4d-40b3-852d-52a2df91f9ef",
   "metadata": {
    "execution": {
     "iopub.execute_input": "2022-03-25T07:47:12.116872Z",
     "iopub.status.busy": "2022-03-25T07:47:12.116442Z",
     "iopub.status.idle": "2022-03-25T07:47:12.646328Z",
     "shell.execute_reply": "2022-03-25T07:47:12.645637Z",
     "shell.execute_reply.started": "2022-03-25T07:47:12.116833Z"
    },
    "tags": []
   },
   "outputs": [
    {
     "data": {
      "application/vnd.jupyter.widget-view+json": {
       "model_id": "ef7d61d6d9254a3881e9f8f78bff6dba",
       "version_major": 2,
       "version_minor": 0
      },
      "text/plain": [
       "VBox()"
      ]
     },
     "metadata": {},
     "output_type": "display_data"
    },
    {
     "data": {
      "application/vnd.jupyter.widget-view+json": {
       "model_id": "",
       "version_major": 2,
       "version_minor": 0
      },
      "text/plain": [
       "FloatProgress(value=0.0, bar_style='info', description='Progress:', layout=Layout(height='25px', width='50%'),…"
      ]
     },
     "metadata": {},
     "output_type": "display_data"
    }
   ],
   "source": [
    "# Compute total, mean and std of the length of songs a user has listened to \n",
    "total_length_by_user = df.select('userId', 'length').groupBy('userId').sum()\n",
    "total_length_by_user = total_length_by_user.withColumnRenamed(\"sum(length)\", \"TotalLength\")\n",
    "\n",
    "avg_length_by_user = df.select('userId', 'length').groupBy('userId').mean()\n",
    "avg_length_by_user = avg_length_by_user.withColumnRenamed(\"avg(length)\", \"AvgLength\")\n",
    "\n",
    "std_length_by_user = df.select('userId', 'length').groupBy('userId').agg(F.stddev('length'))\n",
    "std_length_by_user = std_length_by_user.withColumnRenamed(\"stddev_samp(length)\", \"StdLength\")\n"
   ]
  },
  {
   "cell_type": "code",
   "execution_count": 17,
   "id": "f13fc47b-2959-4fd7-a4ab-107d48289019",
   "metadata": {
    "execution": {
     "iopub.execute_input": "2022-03-25T07:47:12.647969Z",
     "iopub.status.busy": "2022-03-25T07:47:12.647701Z",
     "iopub.status.idle": "2022-03-25T07:47:44.845415Z",
     "shell.execute_reply": "2022-03-25T07:47:44.844582Z",
     "shell.execute_reply.started": "2022-03-25T07:47:12.647933Z"
    },
    "tags": []
   },
   "outputs": [
    {
     "data": {
      "application/vnd.jupyter.widget-view+json": {
       "model_id": "27d14dcc8ee143d286072ea8031d7e7b",
       "version_major": 2,
       "version_minor": 0
      },
      "text/plain": [
       "VBox()"
      ]
     },
     "metadata": {},
     "output_type": "display_data"
    },
    {
     "data": {
      "application/vnd.jupyter.widget-view+json": {
       "model_id": "",
       "version_major": 2,
       "version_minor": 0
      },
      "text/plain": [
       "FloatProgress(value=0.0, bar_style='info', description='Progress:', layout=Layout(height='25px', width='50%'),…"
      ]
     },
     "metadata": {},
     "output_type": "display_data"
    },
    {
     "name": "stdout",
     "output_type": "stream",
     "text": [
      "+-----------+-------+\n",
      "|      State|  count|\n",
      "+-----------+-------+\n",
      "|         CA|2718538|\n",
      "|         TX|1657413|\n",
      "|   NY-NJ-PA|1416186|\n",
      "|         FL|1315374|\n",
      "|         MI| 658378|\n",
      "|         OH| 628231|\n",
      "|   IL-IN-WI| 593556|\n",
      "|         GA| 567738|\n",
      "|         AZ| 536478|\n",
      "|         PA| 507109|\n",
      "|PA-NJ-DE-MD| 502817|\n",
      "|         WA| 497018|\n",
      "|DC-VA-MD-WV| 436256|\n",
      "|         NY| 433677|\n",
      "|         NC| 428223|\n",
      "|         IN| 365177|\n",
      "|      MA-NH| 337747|\n",
      "|         CO| 313123|\n",
      "|         WI| 304415|\n",
      "|         AL| 276120|\n",
      "+-----------+-------+\n",
      "only showing top 20 rows"
     ]
    }
   ],
   "source": [
    "# Extract the US state of the user (occurs after the comma, as in 'Bakersfield, CA')\n",
    "extract_state = F.udf(lambda x: \"Missing\" if x == '' else (x.split(\", \")[1]), StringType())\n",
    "df = df.withColumn(\"State\", extract_state(df.location))\n",
    "df.groupBy('State').count().orderBy(F.desc('count')).show()"
   ]
  },
  {
   "cell_type": "code",
   "execution_count": 18,
   "id": "e7f37903-2b08-4abe-83fb-84fc5025d747",
   "metadata": {
    "execution": {
     "iopub.execute_input": "2022-03-25T07:47:44.847915Z",
     "iopub.status.busy": "2022-03-25T07:47:44.847151Z",
     "iopub.status.idle": "2022-03-25T07:48:51.541052Z",
     "shell.execute_reply": "2022-03-25T07:48:51.540251Z",
     "shell.execute_reply.started": "2022-03-25T07:47:44.847871Z"
    },
    "tags": []
   },
   "outputs": [
    {
     "data": {
      "application/vnd.jupyter.widget-view+json": {
       "model_id": "222c770c581e4ef091169f89874f76c6",
       "version_major": 2,
       "version_minor": 0
      },
      "text/plain": [
       "VBox()"
      ]
     },
     "metadata": {},
     "output_type": "display_data"
    },
    {
     "data": {
      "application/vnd.jupyter.widget-view+json": {
       "model_id": "",
       "version_major": 2,
       "version_minor": 0
      },
      "text/plain": [
       "FloatProgress(value=0.0, bar_style='info', description='Progress:', layout=Layout(height='25px', width='50%'),…"
      ]
     },
     "metadata": {},
     "output_type": "display_data"
    },
    {
     "name": "stdout",
     "output_type": "stream",
     "text": [
      "0"
     ]
    }
   ],
   "source": [
    "df.filter(df.State.isNull()).count()\n",
    "df.filter(df.DaysRegistered.isNull()).count()"
   ]
  },
  {
   "cell_type": "code",
   "execution_count": 19,
   "id": "fafddbf5-8a7e-41c2-8590-a90300fa95dd",
   "metadata": {
    "execution": {
     "iopub.execute_input": "2022-03-25T07:48:51.543043Z",
     "iopub.status.busy": "2022-03-25T07:48:51.542732Z",
     "iopub.status.idle": "2022-03-25T07:50:28.598160Z",
     "shell.execute_reply": "2022-03-25T07:50:28.597177Z",
     "shell.execute_reply.started": "2022-03-25T07:48:51.543005Z"
    },
    "tags": []
   },
   "outputs": [
    {
     "data": {
      "application/vnd.jupyter.widget-view+json": {
       "model_id": "b2ce150fc2824ae38b7d4cb0f183e348",
       "version_major": 2,
       "version_minor": 0
      },
      "text/plain": [
       "VBox()"
      ]
     },
     "metadata": {},
     "output_type": "display_data"
    },
    {
     "data": {
      "application/vnd.jupyter.widget-view+json": {
       "model_id": "",
       "version_major": 2,
       "version_minor": 0
      },
      "text/plain": [
       "FloatProgress(value=0.0, bar_style='info', description='Progress:', layout=Layout(height='25px', width='50%'),…"
      ]
     },
     "metadata": {},
     "output_type": "display_data"
    },
    {
     "name": "stdout",
     "output_type": "stream",
     "text": [
      "[Row(userId='1001393', userAgent='\"Mozilla/5.0 (Windows NT 5.1) AppleWebKit/537.36 (KHTML, like Gecko) Chrome/36.0.1985.143 Safari/537.36\"', State='OH', level='paid', itemInSession=151, gender='M', DaysRegistered=19), Row(userId='1002143', userAgent='\"Mozilla/5.0 (Windows NT 6.1; WOW64) AppleWebKit/537.36 (KHTML, like Gecko) Chrome/36.0.1985.125 Safari/537.36\"', State='NY-NJ-PA', level='paid', itemInSession=70, gender='M', DaysRegistered=74), Row(userId='1002493', userAgent='\"Mozilla/5.0 (Macintosh; Intel Mac OS X 10_9_4) AppleWebKit/537.36 (KHTML, like Gecko) Chrome/36.0.1985.125 Safari/537.36\"', State='PA-NJ-DE-MD', level='free', itemInSession=232, gender='M', DaysRegistered=8), Row(userId='1002749', userAgent='\"Mozilla/5.0 (Macintosh; Intel Mac OS X 10_8_5) AppleWebKit/537.36 (KHTML, like Gecko) Chrome/37.0.2062.94 Safari/537.36\"', State='MD', level='paid', itemInSession=24, gender='M', DaysRegistered=78), Row(userId='1004060', userAgent='\"Mozilla/5.0 (iPhone; CPU iPhone OS 7_1_2 like Mac OS X) AppleWebKit/537.51.2 (KHTML, like Gecko) Version/7.0 Mobile/11D257 Safari/9537.53\"', State='AR', level='free', itemInSession=274, gender='M', DaysRegistered=41)]"
     ]
    }
   ],
   "source": [
    "# Only keep relevant columns for analysis and consoliate dataframe by user\n",
    "# Keep only the latest level data for a user - the last access by a user is with high likelihood also when he churned\n",
    "df_by_user = df.select(['userId', 'userAgent', 'State', 'level', 'itemInSession', 'gender', 'DaysRegistered']).orderBy(F.desc('ts')).dropDuplicates(['userId'])\n",
    "df_by_user.head(5)"
   ]
  },
  {
   "cell_type": "code",
   "execution_count": 20,
   "id": "64f5d881-a08d-4aa0-84a8-fa70ea65645f",
   "metadata": {
    "execution": {
     "iopub.execute_input": "2022-03-25T07:50:28.599849Z",
     "iopub.status.busy": "2022-03-25T07:50:28.599521Z",
     "iopub.status.idle": "2022-03-25T07:54:38.395593Z",
     "shell.execute_reply": "2022-03-25T07:54:38.394757Z",
     "shell.execute_reply.started": "2022-03-25T07:50:28.599753Z"
    },
    "tags": []
   },
   "outputs": [
    {
     "data": {
      "application/vnd.jupyter.widget-view+json": {
       "model_id": "592d3a6dd1bf4a1196159d546191d117",
       "version_major": 2,
       "version_minor": 0
      },
      "text/plain": [
       "VBox()"
      ]
     },
     "metadata": {},
     "output_type": "display_data"
    },
    {
     "data": {
      "application/vnd.jupyter.widget-view+json": {
       "model_id": "",
       "version_major": 2,
       "version_minor": 0
      },
      "text/plain": [
       "FloatProgress(value=0.0, bar_style='info', description='Progress:', layout=Layout(height='25px', width='50%'),…"
      ]
     },
     "metadata": {},
     "output_type": "display_data"
    }
   ],
   "source": [
    "# Define string indexer to convert level, state and gender into numeric columns\n",
    "\n",
    "level_indexer = StringIndexer(inputCol=\"level\", outputCol=\"NumLevel\")\n",
    "state_indexer = StringIndexer(inputCol=\"State\", outputCol=\"NumState\")\n",
    "gender_indexer = StringIndexer(inputCol=\"gender\", outputCol=\"NumGender\")\n",
    "agent_indexer = StringIndexer(inputCol=\"userAgent\", outputCol=\"NumAgent\")\n",
    "\n",
    "df_by_user = level_indexer.fit(df_by_user).transform(df_by_user)\n",
    "df_by_user = state_indexer.fit(df_by_user).transform(df_by_user)\n",
    "df_by_user = gender_indexer.fit(df_by_user).transform(df_by_user)\n",
    "df_by_user = agent_indexer.fit(df_by_user).transform(df_by_user)\n"
   ]
  },
  {
   "cell_type": "code",
   "execution_count": 21,
   "id": "37341c86-6d15-4f19-b76c-d6e979a02139",
   "metadata": {
    "execution": {
     "iopub.execute_input": "2022-03-25T07:54:38.397145Z",
     "iopub.status.busy": "2022-03-25T07:54:38.396879Z",
     "iopub.status.idle": "2022-03-25T07:58:36.011828Z",
     "shell.execute_reply": "2022-03-25T07:58:36.006843Z",
     "shell.execute_reply.started": "2022-03-25T07:54:38.397108Z"
    },
    "tags": []
   },
   "outputs": [
    {
     "data": {
      "application/vnd.jupyter.widget-view+json": {
       "model_id": "68eaa4d4d1b848a3a9b2844178e9fb30",
       "version_major": 2,
       "version_minor": 0
      },
      "text/plain": [
       "VBox()"
      ]
     },
     "metadata": {},
     "output_type": "display_data"
    },
    {
     "data": {
      "application/vnd.jupyter.widget-view+json": {
       "model_id": "",
       "version_major": 2,
       "version_minor": 0
      },
      "text/plain": [
       "FloatProgress(value=0.0, bar_style='info', description='Progress:', layout=Layout(height='25px', width='50%'),…"
      ]
     },
     "metadata": {},
     "output_type": "display_data"
    },
    {
     "name": "stdout",
     "output_type": "stream",
     "text": [
      "[Row(userId='1001393', userAgent='\"Mozilla/5.0 (Windows NT 5.1) AppleWebKit/537.36 (KHTML, like Gecko) Chrome/36.0.1985.143 Safari/537.36\"', State='OH', level='paid', itemInSession=134, gender='M', DaysRegistered=60, NumLevel=0.0, NumState=4.0, NumGender=0.0, NumAgent=25.0, NumberOfDifferentSongs=475, TotalLength=124086.29356, AvgLength=251.18682906882592, StdLength=81.79764237586046, SharePositiveInteractions=0.8901098901098901, ShareNegativeInteractions=0.0282574568288854, label=0), Row(userId='1002143', userAgent='\"Mozilla/5.0 (Windows NT 6.1; WOW64) AppleWebKit/537.36 (KHTML, like Gecko) Chrome/36.0.1985.125 Safari/537.36\"', State='NY-NJ-PA', level='free', itemInSession=74, gender='M', DaysRegistered=60, NumLevel=1.0, NumState=2.0, NumGender=0.0, NumAgent=2.0, NumberOfDifferentSongs=350, TotalLength=91167.15798, AvgLength=253.94751526462397, StdLength=90.25001263937163, SharePositiveInteractions=0.8613445378151261, ShareNegativeInteractions=0.023109243697478993, label=0), Row(userId='1002493', userAgent='\"Mozilla/5.0 (Macintosh; Intel Mac OS X 10_9_4) AppleWebKit/537.36 (KHTML, like Gecko) Chrome/36.0.1985.125 Safari/537.36\"', State='PA-NJ-DE-MD', level='paid', itemInSession=90, gender='M', DaysRegistered=11, NumLevel=0.0, NumState=12.0, NumGender=0.0, NumAgent=5.0, NumberOfDifferentSongs=499, TotalLength=132610.97727000003, AvgLength=255.02111013461544, StdLength=119.74343538026648, SharePositiveInteractions=0.8538461538461538, ShareNegativeInteractions=0.03230769230769231, label=1), Row(userId='1002749', userAgent='\"Mozilla/5.0 (Macintosh; Intel Mac OS X 10_8_5) AppleWebKit/537.36 (KHTML, like Gecko) Chrome/37.0.2062.94 Safari/537.36\"', State='MD', level='paid', itemInSession=222, gender='M', DaysRegistered=78, NumLevel=0.0, NumState=29.0, NumGender=0.0, NumAgent=70.0, NumberOfDifferentSongs=1178, TotalLength=327182.35626, AvgLength=253.23711784829715, StdLength=113.79458531912316, SharePositiveInteractions=0.9029374201787995, ShareNegativeInteractions=0.02362707535121328, label=0), Row(userId='1004060', userAgent='\"Mozilla/5.0 (iPhone; CPU iPhone OS 7_1_2 like Mac OS X) AppleWebKit/537.51.2 (KHTML, like Gecko) Version/7.0 Mobile/11D257 Safari/9537.53\"', State='AR', level='paid', itemInSession=156, gender='M', DaysRegistered=34, NumLevel=0.0, NumState=39.0, NumGender=0.0, NumAgent=11.0, NumberOfDifferentSongs=2431, TotalLength=709330.8743, AvgLength=248.8880260701755, StdLength=99.52498099012811, SharePositiveInteractions=0.9131330977620731, ShareNegativeInteractions=0.02502944640753828, label=0)]"
     ]
    }
   ],
   "source": [
    "# Merge dataframes into one dataframe in which one row corresponds to a user with features and label (\"churn\")\n",
    "\n",
    "df_modelling = df_by_user.join(songs_by_user, ['userId'], 'left')\n",
    "\n",
    "for dataframe in [total_length_by_user, avg_length_by_user, std_length_by_user, pages_by_user, label_user]: \n",
    "    \n",
    "    df_modelling = df_modelling.join(dataframe, ['userId'], 'left')\n",
    "\n",
    "df_modelling.head(5)"
   ]
  },
  {
   "cell_type": "code",
   "execution_count": 22,
   "id": "17cebc3b-1429-4048-add4-e323f3113db7",
   "metadata": {
    "execution": {
     "iopub.execute_input": "2022-03-25T07:58:36.017465Z",
     "iopub.status.busy": "2022-03-25T07:58:36.016224Z",
     "iopub.status.idle": "2022-03-25T08:02:38.521820Z",
     "shell.execute_reply": "2022-03-25T08:02:38.520055Z",
     "shell.execute_reply.started": "2022-03-25T07:58:36.017421Z"
    },
    "tags": []
   },
   "outputs": [
    {
     "data": {
      "application/vnd.jupyter.widget-view+json": {
       "model_id": "4f6fff33a4894396b2c4778ce11bd665",
       "version_major": 2,
       "version_minor": 0
      },
      "text/plain": [
       "VBox()"
      ]
     },
     "metadata": {},
     "output_type": "display_data"
    },
    {
     "data": {
      "application/vnd.jupyter.widget-view+json": {
       "model_id": "",
       "version_major": 2,
       "version_minor": 0
      },
      "text/plain": [
       "FloatProgress(value=0.0, bar_style='info', description='Progress:', layout=Layout(height='25px', width='50%'),…"
      ]
     },
     "metadata": {},
     "output_type": "display_data"
    },
    {
     "name": "stdout",
     "output_type": "stream",
     "text": [
      "['userId', 'userAgent', 'State', 'level', 'itemInSession', 'gender', 'DaysRegistered', 'NumLevel', 'NumState', 'NumGender', 'NumAgent', 'NumberOfDifferentSongs', 'TotalLength', 'AvgLength', 'StdLength', 'SharePositiveInteractions', 'ShareNegativeInteractions', 'label']"
     ]
    }
   ],
   "source": [
    "## Modelling\n",
    "\n",
    "# Split data into train and test \n",
    "\n",
    "train, test = df_modelling.randomSplit([0.9, 0.1], seed=42)\n",
    "train.head()\n",
    "train.columns"
   ]
  },
  {
   "cell_type": "code",
   "execution_count": null,
   "id": "3d885783-e402-4f33-b3b2-f1f17a3c737a",
   "metadata": {},
   "outputs": [],
   "source": []
  },
  {
   "cell_type": "markdown",
   "id": "ed039ab0-6fa1-4564-b211-2e66caa61bcf",
   "metadata": {},
   "source": [
    "## Define class for evaluation metric in CrossValidator and function to compute evaluations"
   ]
  },
  {
   "cell_type": "code",
   "execution_count": 23,
   "id": "fde40e01-19c4-4536-bc93-172f775ce830",
   "metadata": {
    "execution": {
     "iopub.execute_input": "2022-03-25T08:02:38.526446Z",
     "iopub.status.busy": "2022-03-25T08:02:38.524956Z",
     "iopub.status.idle": "2022-03-25T08:02:38.831683Z",
     "shell.execute_reply": "2022-03-25T08:02:38.830779Z",
     "shell.execute_reply.started": "2022-03-25T08:02:38.526393Z"
    },
    "tags": []
   },
   "outputs": [
    {
     "data": {
      "application/vnd.jupyter.widget-view+json": {
       "model_id": "388e9ff797a94a5bb91bc841fb249fec",
       "version_major": 2,
       "version_minor": 0
      },
      "text/plain": [
       "VBox()"
      ]
     },
     "metadata": {},
     "output_type": "display_data"
    },
    {
     "data": {
      "application/vnd.jupyter.widget-view+json": {
       "model_id": "",
       "version_major": 2,
       "version_minor": 0
      },
      "text/plain": [
       "FloatProgress(value=0.0, bar_style='info', description='Progress:', layout=Layout(height='25px', width='50%'),…"
      ]
     },
     "metadata": {},
     "output_type": "display_data"
    }
   ],
   "source": [
    "# Define class for F1Binary Evaluator (taken from https://stackoverflow.com/a/68280339 )\n",
    "\n",
    "class F1BinaryEvaluator():\n",
    "\n",
    "    def __init__(self, predCol=\"prediction\", labelCol=\"label\", metricLabel=1.0):\n",
    "        self.labelCol = labelCol\n",
    "        self.predCol = predCol\n",
    "        self.metricLabel = metricLabel\n",
    "\n",
    "    def isLargerBetter(self):\n",
    "        return True\n",
    "\n",
    "    def evaluate(self, dataframe):\n",
    "        tp = dataframe.filter(self.labelCol + ' = ' + str(self.metricLabel) + ' and ' + self.predCol + ' = ' + str(self.metricLabel)).count()\n",
    "        fp = dataframe.filter(self.labelCol + ' != ' + str(self.metricLabel) + ' and ' + self.predCol + ' = ' + str(self.metricLabel)).count()\n",
    "        fn = dataframe.filter(self.labelCol + ' = ' + str(self.metricLabel) + ' and ' + self.predCol + ' != ' + str(self.metricLabel)).count()\n",
    "        return tp / (tp + (.5 * (fn +fp)))"
   ]
  },
  {
   "cell_type": "code",
   "execution_count": 24,
   "id": "962e5a4d-1a32-4706-9bfd-03defe6a0218",
   "metadata": {
    "execution": {
     "iopub.execute_input": "2022-03-25T08:02:38.893629Z",
     "iopub.status.busy": "2022-03-25T08:02:38.892782Z",
     "iopub.status.idle": "2022-03-25T08:02:39.211091Z",
     "shell.execute_reply": "2022-03-25T08:02:39.210105Z",
     "shell.execute_reply.started": "2022-03-25T08:02:38.893583Z"
    },
    "tags": []
   },
   "outputs": [
    {
     "data": {
      "application/vnd.jupyter.widget-view+json": {
       "model_id": "4f1a823a34714c4284f054ec6e706550",
       "version_major": 2,
       "version_minor": 0
      },
      "text/plain": [
       "VBox()"
      ]
     },
     "metadata": {},
     "output_type": "display_data"
    },
    {
     "data": {
      "application/vnd.jupyter.widget-view+json": {
       "model_id": "",
       "version_major": 2,
       "version_minor": 0
      },
      "text/plain": [
       "FloatProgress(value=0.0, bar_style='info', description='Progress:', layout=Layout(height='25px', width='50%'),…"
      ]
     },
     "metadata": {},
     "output_type": "display_data"
    }
   ],
   "source": [
    "def evaluation_metrics(model_obj,df):\n",
    "    \n",
    "    '''\n",
    "    \n",
    "    Returns evaluation metrics (precision, recall,accuracy and F score) for a fitted model object on a test dataframe\n",
    "    \n",
    "    Input Arguments:\n",
    "    \n",
    "        - model_ob: A Spark model object\n",
    "        - df: the dataframe to evalute (usually the test dataset from the randomSplit)\n",
    "  \n",
    "    \n",
    "    Output:\n",
    "    \n",
    "        - None, but prints the evaluation metrics\n",
    "    \n",
    "  \n",
    "    '''\n",
    "    \n",
    "    results = model_obj.transform(df).select('label','prediction')\n",
    "\n",
    "    \n",
    "    TP = results.filter('label == 1 and prediction == 1').count()\n",
    "    FN = results.filter('label == 1 and prediction == 0').count()\n",
    "    FP = results.filter('label == 0 and prediction == 1').count()\n",
    "    TN = results.filter('label == 0 and prediction == 0').count()\n",
    "    \n",
    "    recall = TP/ (TP+FN)\n",
    "    precision = TP / (TP + FP)\n",
    "    fscore = 2*(precision*recall)/ (precision + recall)\n",
    "    accuracy = (TP + TN)/(TP + TN + FN + FP)\n",
    "    \n",
    "    print(f\"Accuracy: {accuracy}\")\n",
    "    print(f\"F1-Score: {fscore}\")\n",
    "    print(f\"Recall: {recall}\")\n",
    "    print(f\"Precision: {precision}\")\n"
   ]
  },
  {
   "cell_type": "markdown",
   "id": "f97e8f4e-815e-4f62-82a6-c390a9d7e140",
   "metadata": {},
   "source": [
    "## Logistic Regression "
   ]
  },
  {
   "cell_type": "code",
   "execution_count": 25,
   "id": "d05e1a4b-dcf8-42e0-946f-2bada7c423ef",
   "metadata": {
    "execution": {
     "iopub.execute_input": "2022-03-25T08:02:39.213178Z",
     "iopub.status.busy": "2022-03-25T08:02:39.212514Z",
     "iopub.status.idle": "2022-03-25T08:40:18.079098Z",
     "shell.execute_reply": "2022-03-25T08:40:18.078181Z",
     "shell.execute_reply.started": "2022-03-25T08:02:39.213136Z"
    },
    "tags": []
   },
   "outputs": [
    {
     "data": {
      "application/vnd.jupyter.widget-view+json": {
       "model_id": "e6bd1516108e4729a1af00ca9ce08f8b",
       "version_major": 2,
       "version_minor": 0
      },
      "text/plain": [
       "VBox()"
      ]
     },
     "metadata": {},
     "output_type": "display_data"
    },
    {
     "data": {
      "application/vnd.jupyter.widget-view+json": {
       "model_id": "",
       "version_major": 2,
       "version_minor": 0
      },
      "text/plain": [
       "FloatProgress(value=0.0, bar_style='info', description='Progress:', layout=Layout(height='25px', width='50%'),…"
      ]
     },
     "metadata": {},
     "output_type": "display_data"
    },
    {
     "name": "stderr",
     "output_type": "stream",
     "text": [
      "Exception in thread cell_monitor-25:\n",
      "Traceback (most recent call last):\n",
      "  File \"/opt/conda/lib/python3.7/threading.py\", line 926, in _bootstrap_inner\n",
      "    self.run()\n",
      "  File \"/opt/conda/lib/python3.7/threading.py\", line 870, in run\n",
      "    self._target(*self._args, **self._kwargs)\n",
      "  File \"/opt/conda/lib/python3.7/site-packages/awseditorssparkmonitoringwidget-1.0-py3.7.egg/awseditorssparkmonitoringwidget/cellmonitor.py\", line 178, in cell_monitor\n",
      "    job_binned_stages[job_id][stage_id] = all_stages[stage_id]\n",
      "KeyError: 1293\n",
      "\n"
     ]
    },
    {
     "name": "stdout",
     "output_type": "stream",
     "text": [
      "[0.15251329881742506, 0.08455487836315763, 0.06971457349565183, 0.04177339719000879, 0.0, 0.0]"
     ]
    }
   ],
   "source": [
    "\n",
    "\n",
    "assembler = VectorAssembler(inputCols=['DaysRegistered', 'NumLevel', 'NumState', 'NumGender', 'NumAgent',\n",
    "                                       'NumberOfDifferentSongs', 'TotalLength', 'AvgLength', 'StdLength', \n",
    "                                       'SharePositiveInteractions', 'ShareNegativeInteractions'], \n",
    "                                       outputCol=\"features\")\n",
    "\n",
    "scaler = StandardScaler(inputCol=\"features\", outputCol=\"scaledfeatures\", withStd=True)\n",
    "#df_modelling = assembler.transform(df_modelling)\n",
    "\n",
    "lr =  LogisticRegression(maxIter=10, labelCol='label', featuresCol='scaledfeatures')\n",
    "\n",
    "#pipeline_lr = Pipeline(stages=[level_indexer.setHandleInvalid(\"skip\"), state_indexer.setHandleInvalid(\"skip\"), gender_indexer.setHandleInvalid(\"skip\"), assembler.setHandleInvalid(\"skip\"), lr])\n",
    "#pipeline_lr = Pipeline(stages=[level_indexer, state_indexer, gender_indexer, assembler.setHandleInvalid(\"skip\"), lr])\n",
    "pipeline_lr = Pipeline(stages=[assembler.setHandleInvalid('skip'), scaler, lr])\n",
    "\n",
    "paramGrid_lr = ParamGridBuilder() \\\n",
    "    .addGrid(lr.regParam, [0.01, 0.1]) \\\n",
    "    .addGrid(lr.elasticNetParam, [0.0, 0.5, 1.0]) \\\n",
    "    .build()\n",
    "\n",
    "\n",
    "crossval_lr = CrossValidator(estimator=pipeline_lr,\n",
    "                          estimatorParamMaps=paramGrid_lr,\n",
    "                          #evaluator=BinaryEvaluator,\n",
    "                          evaluator=F1BinaryEvaluator(),\n",
    "                          numFolds=3)\n",
    "\n",
    "cval_model_lr = crossval_lr.fit(train)\n",
    "cval_model_lr.avgMetrics\n",
    "\n"
   ]
  },
  {
   "cell_type": "code",
   "execution_count": 31,
   "id": "b66f7037-e650-49c4-99c3-6dfa554570d2",
   "metadata": {
    "execution": {
     "iopub.execute_input": "2022-03-25T10:55:13.061591Z",
     "iopub.status.busy": "2022-03-25T10:55:13.061122Z",
     "iopub.status.idle": "2022-03-25T11:10:53.967429Z",
     "shell.execute_reply": "2022-03-25T11:10:53.966440Z",
     "shell.execute_reply.started": "2022-03-25T10:55:13.061505Z"
    },
    "tags": []
   },
   "outputs": [
    {
     "data": {
      "application/vnd.jupyter.widget-view+json": {
       "model_id": "a1f9d15ee090452c8e3d5312a53680a9",
       "version_major": 2,
       "version_minor": 0
      },
      "text/plain": [
       "VBox()"
      ]
     },
     "metadata": {},
     "output_type": "display_data"
    },
    {
     "data": {
      "application/vnd.jupyter.widget-view+json": {
       "model_id": "",
       "version_major": 2,
       "version_minor": 0
      },
      "text/plain": [
       "FloatProgress(value=0.0, bar_style='info', description='Progress:', layout=Layout(height='25px', width='50%'),…"
      ]
     },
     "metadata": {},
     "output_type": "display_data"
    },
    {
     "name": "stderr",
     "output_type": "stream",
     "text": [
      "Exception in thread cell_monitor-31:\n",
      "Traceback (most recent call last):\n",
      "  File \"/opt/conda/lib/python3.7/threading.py\", line 926, in _bootstrap_inner\n",
      "    self.run()\n",
      "  File \"/opt/conda/lib/python3.7/threading.py\", line 870, in run\n",
      "    self._target(*self._args, **self._kwargs)\n",
      "  File \"/opt/conda/lib/python3.7/site-packages/awseditorssparkmonitoringwidget-1.0-py3.7.egg/awseditorssparkmonitoringwidget/cellmonitor.py\", line 178, in cell_monitor\n",
      "    job_binned_stages[job_id][stage_id] = all_stages[stage_id]\n",
      "KeyError: 24493\n",
      "\n"
     ]
    },
    {
     "name": "stdout",
     "output_type": "stream",
     "text": [
      "Accuracy: 0.7753690036900369\n",
      "F1-Score: 0.15597920277296362\n",
      "Recall: 0.08928571428571429\n",
      "Precision: 0.6164383561643836"
     ]
    }
   ],
   "source": [
    "evaluation_metrics(cval_model_lr, test)"
   ]
  },
  {
   "cell_type": "code",
   "execution_count": 35,
   "id": "be987888-da1b-46b9-a37d-fd79e44a2388",
   "metadata": {
    "execution": {
     "iopub.execute_input": "2022-03-25T12:26:07.366184Z",
     "iopub.status.busy": "2022-03-25T12:26:07.365866Z",
     "iopub.status.idle": "2022-03-25T12:26:07.725667Z",
     "shell.execute_reply": "2022-03-25T12:26:07.724875Z",
     "shell.execute_reply.started": "2022-03-25T12:26:07.366150Z"
    },
    "tags": []
   },
   "outputs": [
    {
     "data": {
      "application/vnd.jupyter.widget-view+json": {
       "model_id": "c4c3feb8a37241079a01a7edf19f6e12",
       "version_major": 2,
       "version_minor": 0
      },
      "text/plain": [
       "VBox()"
      ]
     },
     "metadata": {},
     "output_type": "display_data"
    },
    {
     "data": {
      "application/vnd.jupyter.widget-view+json": {
       "model_id": "",
       "version_major": 2,
       "version_minor": 0
      },
      "text/plain": [
       "FloatProgress(value=0.0, bar_style='info', description='Progress:', layout=Layout(height='25px', width='50%'),…"
      ]
     },
     "metadata": {},
     "output_type": "display_data"
    },
    {
     "name": "stdout",
     "output_type": "stream",
     "text": [
      "{Param(parent='LogisticRegression_42cf828ce197', name='regParam', doc='regularization parameter (>= 0).'): 0.01, Param(parent='LogisticRegression_42cf828ce197', name='elasticNetParam', doc='the ElasticNet mixing parameter, in range [0, 1]. For alpha = 0, the penalty is an L2 penalty. For alpha = 1, it is an L1 penalty.'): 0.0}"
     ]
    }
   ],
   "source": [
    "cval_model_lr.getEstimatorParamMaps()[np.argmax(cval_model_lr.avgMetrics)]"
   ]
  },
  {
   "cell_type": "markdown",
   "id": "46c8a93a-4e95-462c-8485-8147f44f402f",
   "metadata": {},
   "source": [
    "## Random forest"
   ]
  },
  {
   "cell_type": "code",
   "execution_count": 39,
   "id": "559de125-969d-476c-8adb-592ce41a1a1d",
   "metadata": {
    "execution": {
     "iopub.execute_input": "2022-03-25T13:41:00.744452Z",
     "iopub.status.busy": "2022-03-25T13:41:00.744033Z",
     "iopub.status.idle": "2022-03-25T14:20:01.779473Z",
     "shell.execute_reply": "2022-03-25T14:20:01.778432Z",
     "shell.execute_reply.started": "2022-03-25T13:41:00.744414Z"
    },
    "tags": []
   },
   "outputs": [
    {
     "data": {
      "application/vnd.jupyter.widget-view+json": {
       "model_id": "cf4278e2fc3949fba9481ce4ce09dabb",
       "version_major": 2,
       "version_minor": 0
      },
      "text/plain": [
       "VBox()"
      ]
     },
     "metadata": {},
     "output_type": "display_data"
    },
    {
     "data": {
      "application/vnd.jupyter.widget-view+json": {
       "model_id": "",
       "version_major": 2,
       "version_minor": 0
      },
      "text/plain": [
       "FloatProgress(value=0.0, bar_style='info', description='Progress:', layout=Layout(height='25px', width='50%'),…"
      ]
     },
     "metadata": {},
     "output_type": "display_data"
    },
    {
     "name": "stderr",
     "output_type": "stream",
     "text": [
      "Exception in thread cell_monitor-39:\n",
      "Traceback (most recent call last):\n",
      "  File \"/opt/conda/lib/python3.7/threading.py\", line 926, in _bootstrap_inner\n",
      "    self.run()\n",
      "  File \"/opt/conda/lib/python3.7/threading.py\", line 870, in run\n",
      "    self._target(*self._args, **self._kwargs)\n",
      "  File \"/opt/conda/lib/python3.7/site-packages/awseditorssparkmonitoringwidget-1.0-py3.7.egg/awseditorssparkmonitoringwidget/cellmonitor.py\", line 178, in cell_monitor\n",
      "    job_binned_stages[job_id][stage_id] = all_stages[stage_id]\n",
      "KeyError: 24690\n",
      "\n"
     ]
    },
    {
     "name": "stdout",
     "output_type": "stream",
     "text": [
      "[0.0, 0.09334487221315038, 0.24975701476687057]"
     ]
    }
   ],
   "source": [
    "rf = RandomForestClassifier()\n",
    "\n",
    "# need to remove Numstate and NumAgent because number of categorical features exceeds maxBins\n",
    "\n",
    "assembler = VectorAssembler(inputCols=['DaysRegistered', 'NumLevel', 'NumGender', \n",
    "                                       'NumberOfDifferentSongs', 'TotalLength', 'AvgLength', 'StdLength', \n",
    "                                       'SharePositiveInteractions', 'ShareNegativeInteractions'], \n",
    "                                       outputCol=\"features\")\n",
    "\n",
    "scaler = StandardScaler(inputCol=\"features\", outputCol=\"scaledfeatures\", withStd=True)\n",
    "\n",
    "paramGrid_rf = ParamGridBuilder() \\\n",
    "    .addGrid(rf.maxDepth,[2, 3, 4]) \\\n",
    "    .build()\n",
    "\n",
    "pipeline_rf = Pipeline(stages=[assembler.setHandleInvalid('skip'), scaler, rf])\n",
    "\n",
    "crossval_rf = CrossValidator(estimator=pipeline_rf,\n",
    "                          estimatorParamMaps=paramGrid_rf,\n",
    "                          evaluator=F1BinaryEvaluator(),\n",
    "                          numFolds=3)\n",
    "\n",
    "cval_model_rf = crossval_rf.fit(train)\n",
    "cval_model_rf.avgMetrics\n",
    "\n"
   ]
  },
  {
   "cell_type": "code",
   "execution_count": 41,
   "id": "de9f61f2-fa62-4382-86a8-5185a45d72c0",
   "metadata": {
    "execution": {
     "iopub.execute_input": "2022-03-25T14:37:01.472350Z",
     "iopub.status.busy": "2022-03-25T14:37:01.471978Z",
     "iopub.status.idle": "2022-03-25T14:53:30.900487Z",
     "shell.execute_reply": "2022-03-25T14:53:30.899634Z",
     "shell.execute_reply.started": "2022-03-25T14:37:01.472303Z"
    },
    "tags": []
   },
   "outputs": [
    {
     "data": {
      "application/vnd.jupyter.widget-view+json": {
       "model_id": "49272edd7e93472286fd279a4a4c7110",
       "version_major": 2,
       "version_minor": 0
      },
      "text/plain": [
       "VBox()"
      ]
     },
     "metadata": {},
     "output_type": "display_data"
    },
    {
     "data": {
      "application/vnd.jupyter.widget-view+json": {
       "model_id": "",
       "version_major": 2,
       "version_minor": 0
      },
      "text/plain": [
       "FloatProgress(value=0.0, bar_style='info', description='Progress:', layout=Layout(height='25px', width='50%'),…"
      ]
     },
     "metadata": {},
     "output_type": "display_data"
    },
    {
     "name": "stderr",
     "output_type": "stream",
     "text": [
      "Exception in thread cell_monitor-41:\n",
      "Traceback (most recent call last):\n",
      "  File \"/opt/conda/lib/python3.7/threading.py\", line 926, in _bootstrap_inner\n",
      "    self.run()\n",
      "  File \"/opt/conda/lib/python3.7/threading.py\", line 870, in run\n",
      "    self._target(*self._args, **self._kwargs)\n",
      "  File \"/opt/conda/lib/python3.7/site-packages/awseditorssparkmonitoringwidget-1.0-py3.7.egg/awseditorssparkmonitoringwidget/cellmonitor.py\", line 178, in cell_monitor\n",
      "    job_binned_stages[job_id][stage_id] = all_stages[stage_id]\n",
      "KeyError: 26787\n",
      "\n"
     ]
    },
    {
     "name": "stdout",
     "output_type": "stream",
     "text": [
      "Accuracy: 0.7878228782287823\n",
      "F1-Score: 0.222972972972973\n",
      "Recall: 0.13253012048192772\n",
      "Precision: 0.7021276595744681"
     ]
    }
   ],
   "source": [
    "evaluation_metrics(cval_model_rf, test)"
   ]
  },
  {
   "cell_type": "code",
   "execution_count": 42,
   "id": "81f2415e-0d2b-4c3c-90a6-96ec6edf3f10",
   "metadata": {
    "execution": {
     "iopub.execute_input": "2022-03-25T14:53:30.902556Z",
     "iopub.status.busy": "2022-03-25T14:53:30.902248Z",
     "iopub.status.idle": "2022-03-25T14:53:31.239435Z",
     "shell.execute_reply": "2022-03-25T14:53:31.237502Z",
     "shell.execute_reply.started": "2022-03-25T14:53:30.902517Z"
    },
    "tags": []
   },
   "outputs": [
    {
     "data": {
      "application/vnd.jupyter.widget-view+json": {
       "model_id": "78985ece9be24e81b761daa67b005944",
       "version_major": 2,
       "version_minor": 0
      },
      "text/plain": [
       "VBox()"
      ]
     },
     "metadata": {},
     "output_type": "display_data"
    },
    {
     "data": {
      "application/vnd.jupyter.widget-view+json": {
       "model_id": "",
       "version_major": 2,
       "version_minor": 0
      },
      "text/plain": [
       "FloatProgress(value=0.0, bar_style='info', description='Progress:', layout=Layout(height='25px', width='50%'),…"
      ]
     },
     "metadata": {},
     "output_type": "display_data"
    },
    {
     "name": "stdout",
     "output_type": "stream",
     "text": [
      "{Param(parent='RandomForestClassifier_d7666e060778', name='maxDepth', doc='Maximum depth of the tree. (>= 0) E.g., depth 0 means 1 leaf node; depth 1 means 1 internal node + 2 leaf nodes.'): 4}"
     ]
    }
   ],
   "source": [
    "cval_model_rf.getEstimatorParamMaps()[np.argmax(cval_model_rf.avgMetrics)]"
   ]
  },
  {
   "cell_type": "markdown",
   "id": "a5155825-deca-4900-96ce-f3a8a20806db",
   "metadata": {
    "tags": []
   },
   "source": [
    "## Gradient Boosting Tree Classifier"
   ]
  },
  {
   "cell_type": "code",
   "execution_count": 29,
   "id": "03abfce6-3fb5-457a-bd8c-299fd7b4975e",
   "metadata": {
    "execution": {
     "iopub.execute_input": "2022-03-25T09:53:18.570567Z",
     "iopub.status.busy": "2022-03-25T09:53:18.569813Z",
     "iopub.status.idle": "2022-03-25T10:34:41.773910Z",
     "shell.execute_reply": "2022-03-25T10:34:41.772987Z",
     "shell.execute_reply.started": "2022-03-25T09:53:18.570517Z"
    },
    "tags": []
   },
   "outputs": [
    {
     "data": {
      "application/vnd.jupyter.widget-view+json": {
       "model_id": "05d0b5343dea417a886253c6146cb7e1",
       "version_major": 2,
       "version_minor": 0
      },
      "text/plain": [
       "VBox()"
      ]
     },
     "metadata": {},
     "output_type": "display_data"
    },
    {
     "data": {
      "application/vnd.jupyter.widget-view+json": {
       "model_id": "",
       "version_major": 2,
       "version_minor": 0
      },
      "text/plain": [
       "FloatProgress(value=0.0, bar_style='info', description='Progress:', layout=Layout(height='25px', width='50%'),…"
      ]
     },
     "metadata": {},
     "output_type": "display_data"
    },
    {
     "name": "stderr",
     "output_type": "stream",
     "text": [
      "Exception in thread cell_monitor-29:\n",
      "Traceback (most recent call last):\n",
      "  File \"/opt/conda/lib/python3.7/threading.py\", line 926, in _bootstrap_inner\n",
      "    self.run()\n",
      "  File \"/opt/conda/lib/python3.7/threading.py\", line 870, in run\n",
      "    self._target(*self._args, **self._kwargs)\n",
      "  File \"/opt/conda/lib/python3.7/site-packages/awseditorssparkmonitoringwidget-1.0-py3.7.egg/awseditorssparkmonitoringwidget/cellmonitor.py\", line 178, in cell_monitor\n",
      "    job_binned_stages[job_id][stage_id] = all_stages[stage_id]\n",
      "KeyError: 8448\n",
      "\n"
     ]
    },
    {
     "name": "stdout",
     "output_type": "stream",
     "text": [
      "[0.39400079885027894, 0.4316506225443716, 0.4424942817245162]"
     ]
    }
   ],
   "source": [
    "\n",
    "\n",
    "gbt = GBTClassifier(subsamplingRate=0.5, minInstancesPerNode=10, seed=42)\n",
    "\n",
    "# need to remove Numstate and NumAgent because number of categorical features exceeds maxBins\n",
    "\n",
    "assembler = VectorAssembler(inputCols=['DaysRegistered', 'NumLevel', 'NumGender', \n",
    "                                       'NumberOfDifferentSongs', 'TotalLength', 'AvgLength', 'StdLength', \n",
    "                                       'SharePositiveInteractions', 'ShareNegativeInteractions'], \n",
    "                                       outputCol=\"features\")\n",
    "\n",
    "scaler = StandardScaler(inputCol=\"features\", outputCol=\"scaledfeatures\", withStd=True)\n",
    "\n",
    "paramGrid_gbt = ParamGridBuilder() \\\n",
    "    .addGrid(gbt.maxDepth,[2, 3, 4]) \\\n",
    "    .build()\n",
    "\n",
    "pipeline_gbt = Pipeline(stages=[assembler.setHandleInvalid('skip'), scaler, gbt])\n",
    "\n",
    "crossval_gbt = CrossValidator(estimator=pipeline_gbt,\n",
    "                          estimatorParamMaps=paramGrid_gbt,\n",
    "                          evaluator=F1BinaryEvaluator(),\n",
    "                          numFolds=3)\n",
    "\n",
    "cval_model_gbt = crossval_gbt.fit(train)\n",
    "\n",
    "cval_model_gbt.avgMetrics"
   ]
  },
  {
   "cell_type": "code",
   "execution_count": 40,
   "id": "fa5ded71-351d-4f81-8829-18a1d7034575",
   "metadata": {
    "execution": {
     "iopub.execute_input": "2022-03-25T14:20:41.616058Z",
     "iopub.status.busy": "2022-03-25T14:20:41.615653Z",
     "iopub.status.idle": "2022-03-25T14:37:01.467139Z",
     "shell.execute_reply": "2022-03-25T14:37:01.464465Z",
     "shell.execute_reply.started": "2022-03-25T14:20:41.616026Z"
    },
    "tags": []
   },
   "outputs": [
    {
     "data": {
      "application/vnd.jupyter.widget-view+json": {
       "model_id": "87f510dfd96a4e568a9ffd2fa4343a17",
       "version_major": 2,
       "version_minor": 0
      },
      "text/plain": [
       "VBox()"
      ]
     },
     "metadata": {},
     "output_type": "display_data"
    },
    {
     "data": {
      "application/vnd.jupyter.widget-view+json": {
       "model_id": "",
       "version_major": 2,
       "version_minor": 0
      },
      "text/plain": [
       "FloatProgress(value=0.0, bar_style='info', description='Progress:', layout=Layout(height='25px', width='50%'),…"
      ]
     },
     "metadata": {},
     "output_type": "display_data"
    },
    {
     "name": "stdout",
     "output_type": "stream",
     "text": [
      "Accuracy: 0.7998159226875288\n",
      "F1-Score: 0.42384105960264895\n",
      "Recall: 0.32\n",
      "Precision: 0.6274509803921569"
     ]
    }
   ],
   "source": [
    "evaluation_metrics(cval_model_gbt, test)"
   ]
  },
  {
   "cell_type": "code",
   "execution_count": 37,
   "id": "d79b0a36-e114-4fe7-ab4d-c2b71e1f5273",
   "metadata": {
    "execution": {
     "iopub.execute_input": "2022-03-25T12:51:21.255201Z",
     "iopub.status.busy": "2022-03-25T12:51:21.254913Z",
     "iopub.status.idle": "2022-03-25T12:51:21.703471Z",
     "shell.execute_reply": "2022-03-25T12:51:21.702551Z",
     "shell.execute_reply.started": "2022-03-25T12:51:21.255172Z"
    },
    "tags": []
   },
   "outputs": [
    {
     "data": {
      "application/vnd.jupyter.widget-view+json": {
       "model_id": "cf079183dbe740228bd2a09719120780",
       "version_major": 2,
       "version_minor": 0
      },
      "text/plain": [
       "VBox()"
      ]
     },
     "metadata": {},
     "output_type": "display_data"
    },
    {
     "data": {
      "application/vnd.jupyter.widget-view+json": {
       "model_id": "",
       "version_major": 2,
       "version_minor": 0
      },
      "text/plain": [
       "FloatProgress(value=0.0, bar_style='info', description='Progress:', layout=Layout(height='25px', width='50%'),…"
      ]
     },
     "metadata": {},
     "output_type": "display_data"
    },
    {
     "name": "stdout",
     "output_type": "stream",
     "text": [
      "{Param(parent='GBTClassifier_8b8a2cfcf2b7', name='maxDepth', doc='Maximum depth of the tree. (>= 0) E.g., depth 0 means 1 leaf node; depth 1 means 1 internal node + 2 leaf nodes.'): 4}"
     ]
    }
   ],
   "source": [
    "cval_model_gbt.getEstimatorParamMaps()[np.argmax(cval_model_gbt.avgMetrics)]"
   ]
  }
 ],
 "metadata": {
  "kernelspec": {
   "display_name": "PySpark",
   "language": "",
   "name": "pysparkkernel"
  },
  "language_info": {
   "codemirror_mode": {
    "name": "python",
    "version": 2
   },
   "mimetype": "text/x-python",
   "name": "pyspark",
   "pygments_lexer": "python2"
  }
 },
 "nbformat": 4,
 "nbformat_minor": 5
}
