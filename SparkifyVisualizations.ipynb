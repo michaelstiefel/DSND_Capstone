{
 "cells": [
  {
   "cell_type": "markdown",
   "metadata": {},
   "source": [
    "# Sparkify Project Workspace\n",
    "This workspace contains a tiny subset (128MB) of the full dataset available (12GB). Feel free to use this workspace to build your project, or to explore a smaller subset with Spark before deploying your cluster on the cloud. Instructions for setting up your Spark cluster is included in the last lesson of the Extracurricular Spark Course content.\n",
    "\n",
    "You can follow the steps below to guide your data analysis and model building portion of this project."
   ]
  },
  {
   "cell_type": "code",
   "execution_count": 1,
   "metadata": {},
   "outputs": [],
   "source": [
    "# import libraries\n",
    "from pyspark.sql import SparkSession\n",
    "import pyspark.sql.functions as F\n",
    "from pyspark.sql.types import IntegerType, StringType\n",
    "from pyspark.ml.feature import StringIndexer, VectorAssembler, StandardScaler\n",
    "from pyspark.ml.tuning import CrossValidator, ParamGridBuilder\n",
    "from pyspark.ml.classification import LogisticRegression, RandomForestClassifier, GBTClassifier\n",
    "from pyspark.ml import Pipeline"
   ]
  },
  {
   "cell_type": "code",
   "execution_count": 2,
   "metadata": {},
   "outputs": [],
   "source": [
    "# create a Spark session\n",
    "\n",
    "spark = SparkSession \\\n",
    "    .builder \\\n",
    "    .appName(\"Sparkify\") \\\n",
    "    .getOrCreate()\n",
    "\n"
   ]
  },
  {
   "cell_type": "markdown",
   "metadata": {},
   "source": [
    "# Load and Clean Dataset\n",
    "In this workspace, the mini-dataset file is `mini_sparkify_event_data.json`. Load and clean the dataset, checking for invalid or missing data - for example, records without userids or sessionids. "
   ]
  },
  {
   "cell_type": "code",
   "execution_count": 3,
   "metadata": {},
   "outputs": [
    {
     "data": {
      "text/plain": [
       "Row(artist='Martha Tilston', auth='Logged In', firstName='Colin', gender='M', itemInSession=50, lastName='Freeman', length=277.89016, level='paid', location='Bakersfield, CA', method='PUT', page='NextSong', registration=1538173362000, sessionId=29, song='Rockpools', status=200, ts=1538352117000, userAgent='Mozilla/5.0 (Windows NT 6.1; WOW64; rv:31.0) Gecko/20100101 Firefox/31.0', userId='30')"
      ]
     },
     "execution_count": 3,
     "metadata": {},
     "output_type": "execute_result"
    }
   ],
   "source": [
    "# Read in full sparkify dataset\n",
    "#event_data = \"s3n://udacity-dsnd/sparkify/sparkify_event_data.json\"\n",
    "event_data = \"./mini_sparkify_event_data.json\"\n",
    "df = spark.read.json(event_data)\n",
    "df.head()"
   ]
  },
  {
   "cell_type": "markdown",
   "metadata": {},
   "source": [
    "# Exploratory Data Analysis\n",
    "When you're working with the full dataset, perform EDA by loading a small subset of the data and doing basic manipulations within Spark. In this workspace, you are already provided a small subset of data you can explore.\n",
    "\n",
    "### Define Churn\n",
    "\n",
    "Once you've done some preliminary analysis, create a column `Churn` to use as the label for your model. I suggest using the `Cancellation Confirmation` events to define your churn, which happen for both paid and free users. As a bonus task, you can also look into the `Downgrade` events.\n",
    "\n",
    "### Explore Data\n",
    "Once you've defined churn, perform some exploratory data analysis to observe the behavior for users who stayed vs users who churned. You can start by exploring aggregates on these two groups of users, observing how much of a specific action they experienced per a certain time unit or number of songs played."
   ]
  },
  {
   "cell_type": "code",
   "execution_count": 4,
   "metadata": {},
   "outputs": [],
   "source": [
    "#df.groupBy('page').count().orderBy('count').show()\n",
    "\n"
   ]
  },
  {
   "cell_type": "code",
   "execution_count": 5,
   "metadata": {},
   "outputs": [
    {
     "data": {
      "text/plain": [
       "[Row(userId='100010', label=0),\n",
       " Row(userId='200002', label=0),\n",
       " Row(userId='125', label=1),\n",
       " Row(userId='51', label=1),\n",
       " Row(userId='124', label=0),\n",
       " Row(userId='7', label=0),\n",
       " Row(userId='54', label=1),\n",
       " Row(userId='15', label=0),\n",
       " Row(userId='155', label=0),\n",
       " Row(userId='132', label=0),\n",
       " Row(userId='154', label=0),\n",
       " Row(userId='100014', label=1),\n",
       " Row(userId='101', label=1),\n",
       " Row(userId='11', label=0),\n",
       " Row(userId='138', label=0),\n",
       " Row(userId='300017', label=0),\n",
       " Row(userId='29', label=1),\n",
       " Row(userId='69', label=0),\n",
       " Row(userId='100021', label=1),\n",
       " Row(userId='42', label=0)]"
      ]
     },
     "execution_count": 5,
     "metadata": {},
     "output_type": "execute_result"
    }
   ],
   "source": [
    "# Define Churn by user: This will be a binary column called \"label\". If user has cancelled once, this will be one for this user\n",
    "df = df.withColumn(\"Churn\", F.when(df.page == 'Cancellation Confirmation',1).otherwise(0))\n",
    "df.head()\n",
    "\n",
    "label_user = df.select(\"Churn\", \"userId\").groupBy(\"userId\").sum()\n",
    "label_user = label_user.withColumnRenamed(\"sum(Churn)\", \"ChurnSum\")\n",
    "label_user.head()\n",
    "\n",
    "generate_labels = F.udf(lambda x: 1 if x > 0 else 0, IntegerType())\n",
    "label_user = label_user.withColumn(\"label\", generate_labels(label_user.ChurnSum))\n",
    "label_user = label_user.drop(\"ChurnSum\")\n",
    "label_user.head(20)\n",
    "\n",
    "\n",
    "\n"
   ]
  },
  {
   "cell_type": "code",
   "execution_count": 6,
   "metadata": {},
   "outputs": [
    {
     "name": "stdout",
     "output_type": "stream",
     "text": [
      "root\n",
      " |-- userId: string (nullable = true)\n",
      " |-- About: long (nullable = true)\n",
      " |-- Add Friend: long (nullable = true)\n",
      " |-- Add to Playlist: long (nullable = true)\n",
      " |-- Cancel: long (nullable = true)\n",
      " |-- Cancellation Confirmation: long (nullable = true)\n",
      " |-- Downgrade: long (nullable = true)\n",
      " |-- Error: long (nullable = true)\n",
      " |-- Help: long (nullable = true)\n",
      " |-- Home: long (nullable = true)\n",
      " |-- Login: long (nullable = true)\n",
      " |-- Logout: long (nullable = true)\n",
      " |-- NextSong: long (nullable = true)\n",
      " |-- Register: long (nullable = true)\n",
      " |-- Roll Advert: long (nullable = true)\n",
      " |-- Save Settings: long (nullable = true)\n",
      " |-- Settings: long (nullable = true)\n",
      " |-- Submit Downgrade: long (nullable = true)\n",
      " |-- Submit Registration: long (nullable = true)\n",
      " |-- Submit Upgrade: long (nullable = true)\n",
      " |-- Thumbs Down: long (nullable = true)\n",
      " |-- Thumbs Up: long (nullable = true)\n",
      " |-- Upgrade: long (nullable = true)\n",
      "\n"
     ]
    },
    {
     "data": {
      "text/plain": [
       "[Row(userId='200002', SharePositiveInteractions=0.890295358649789, ShareNegativeInteractions=0.027426160337552744),\n",
       " Row(userId='100010', SharePositiveInteractions=0.800524934383202, ShareNegativeInteractions=0.01837270341207349),\n",
       " Row(userId='125', SharePositiveInteractions=0.7272727272727273, ShareNegativeInteractions=0.0)]"
      ]
     },
     "execution_count": 6,
     "metadata": {},
     "output_type": "execute_result"
    }
   ],
   "source": [
    "# Those missing data seems to contain still relevant info in the \"page\" section:\n",
    "# Users are visiting the Help section, getting an error, down- or upgrading songs.\n",
    "# In order to keep this useful information, we count those occurences by user and then compute summary statistics about positive and negative interactions\n",
    "# Prepare pages by user field \n",
    "\n",
    "pages_by_user = df.groupBy(['userId']).pivot('page').count().fillna(0)\n",
    "pages_by_user.head()\n",
    "pages_by_user.printSchema()\n",
    "\n",
    "#pages_by_user = pages_by_user.drop(*('Cancel', 'Cancellation Confirmation'))\n",
    "\n",
    "cols_to_sum_over = [element for element in pages_by_user.columns if element != 'userId']\n",
    "\n",
    "\n",
    "\n",
    "pages_by_user = pages_by_user.withColumn(\"TotalInteractions\", sum(pages_by_user[col] for col in cols_to_sum_over))\n",
    "pages_by_user = pages_by_user.withColumn(\"PositiveInteractions\", F.col('Add Friend') + F.col('Add to Playlist') + F.col('NextSong') + F.col('Thumbs Up') + F.col('Upgrade'))\n",
    "pages_by_user = pages_by_user.withColumn(\"NegativeInteractions\", F.col('Submit Downgrade') + F.col('Error') + F.col('Help') + F.col('Downgrade') + F.col('Thumbs Down'))\n",
    "pages_by_user = pages_by_user.withColumn(\"SharePositiveInteractions\", F.col(\"PositiveInteractions\") / F.col(\"TotalInteractions\"))\n",
    "pages_by_user = pages_by_user.withColumn(\"ShareNegativeInteractions\", F.col(\"NegativeInteractions\") / F.col(\"TotalInteractions\"))\n",
    "pages_by_user = pages_by_user.select(F.col('userId'), F.col('SharePositiveInteractions'), F.col('ShareNegativeInteractions'))\n",
    "pages_by_user.head(3)\n"
   ]
  },
  {
   "cell_type": "code",
   "execution_count": 7,
   "metadata": {},
   "outputs": [
    {
     "name": "stdout",
     "output_type": "stream",
     "text": [
      "+-----+------+\n",
      "|Churn| count|\n",
      "+-----+------+\n",
      "|    1|    52|\n",
      "|    0|286448|\n",
      "+-----+------+\n",
      "\n"
     ]
    }
   ],
   "source": [
    "# Some descriptive statistics about churn\n",
    "df.groupBy('Churn').count().orderBy('count').show()\n",
    "\n",
    "\n",
    "# Descriptive Stats about Churn\n",
    "#df.groupBy('Churn').mean('itemInSession').show()\n",
    "# df.groupBy(['Churn', 'level']).count().show()"
   ]
  },
  {
   "cell_type": "markdown",
   "metadata": {},
   "source": [
    "## Install newest version of seaborn for plots\n"
   ]
  },
  {
   "cell_type": "code",
   "execution_count": 8,
   "metadata": {},
   "outputs": [
    {
     "name": "stdout",
     "output_type": "stream",
     "text": [
      "Requirement already satisfied: seaborn==0.11.0 in /opt/conda/lib/python3.6/site-packages (0.11.0)\n",
      "Requirement already satisfied: scipy>=1.0 in /opt/conda/lib/python3.6/site-packages (from seaborn==0.11.0) (1.2.1)\n",
      "Requirement already satisfied: numpy>=1.15 in /opt/conda/lib/python3.6/site-packages (from seaborn==0.11.0) (1.19.5)\n",
      "Requirement already satisfied: pandas>=0.23 in /opt/conda/lib/python3.6/site-packages (from seaborn==0.11.0) (0.23.3)\n",
      "Requirement already satisfied: matplotlib>=2.2 in /opt/conda/lib/python3.6/site-packages (from seaborn==0.11.0) (3.3.4)\n",
      "Requirement already satisfied: python-dateutil>=2.5.0 in /opt/conda/lib/python3.6/site-packages (from pandas>=0.23->seaborn==0.11.0) (2.6.1)\n",
      "Requirement already satisfied: pytz>=2011k in /opt/conda/lib/python3.6/site-packages (from pandas>=0.23->seaborn==0.11.0) (2017.3)\n",
      "Requirement already satisfied: cycler>=0.10 in /opt/conda/lib/python3.6/site-packages/cycler-0.10.0-py3.6.egg (from matplotlib>=2.2->seaborn==0.11.0) (0.10.0)\n",
      "Requirement already satisfied: pyparsing!=2.0.4,!=2.1.2,!=2.1.6,>=2.0.3 in /opt/conda/lib/python3.6/site-packages (from matplotlib>=2.2->seaborn==0.11.0) (2.2.0)\n",
      "Requirement already satisfied: kiwisolver>=1.0.1 in /opt/conda/lib/python3.6/site-packages (from matplotlib>=2.2->seaborn==0.11.0) (1.3.1)\n",
      "Requirement already satisfied: pillow>=6.2.0 in /opt/conda/lib/python3.6/site-packages (from matplotlib>=2.2->seaborn==0.11.0) (8.4.0)\n",
      "Requirement already satisfied: six>=1.5 in /opt/conda/lib/python3.6/site-packages (from python-dateutil>=2.5.0->pandas>=0.23->seaborn==0.11.0) (1.11.0)\n"
     ]
    }
   ],
   "source": [
    "import sys\n",
    "!{sys.executable} -m pip install seaborn==0.11.0"
   ]
  },
  {
   "cell_type": "code",
   "execution_count": 9,
   "metadata": {},
   "outputs": [
    {
     "name": "stdout",
     "output_type": "stream",
     "text": [
      "seaborn==0.11.0\n"
     ]
    }
   ],
   "source": [
    "import pkg_resources\n",
    "root_packages=['seaborn']\n",
    "for m in pkg_resources.working_set:\n",
    "    if m.project_name.lower() in root_packages:\n",
    "        print(f\"{m.project_name}=={m.version}\")"
   ]
  },
  {
   "cell_type": "code",
   "execution_count": 32,
   "metadata": {},
   "outputs": [
    {
     "name": "stdout",
     "output_type": "stream",
     "text": [
      "0.11.0\n"
     ]
    }
   ],
   "source": [
    "import seaborn as sns\n",
    "from matplotlib import pyplot as plt\n",
    "print(sns.__version__)"
   ]
  },
  {
   "cell_type": "code",
   "execution_count": null,
   "metadata": {},
   "outputs": [],
   "source": [
    "\n",
    "\n"
   ]
  },
  {
   "cell_type": "code",
   "execution_count": null,
   "metadata": {},
   "outputs": [],
   "source": []
  },
  {
   "cell_type": "code",
   "execution_count": null,
   "metadata": {},
   "outputs": [],
   "source": []
  },
  {
   "cell_type": "code",
   "execution_count": 11,
   "metadata": {},
   "outputs": [],
   "source": [
    "# Prepare missing user data\n",
    "\n",
    "\n",
    "df = df.dropna(how='any', subset=['artist', 'firstName'])"
   ]
  },
  {
   "cell_type": "code",
   "execution_count": null,
   "metadata": {},
   "outputs": [],
   "source": []
  },
  {
   "cell_type": "code",
   "execution_count": null,
   "metadata": {},
   "outputs": [],
   "source": [
    "\n"
   ]
  },
  {
   "cell_type": "markdown",
   "metadata": {},
   "source": [
    "# Feature Engineering\n",
    "Once you've familiarized yourself with the data, build out the features you find promising to train your model on. To work with the full dataset, you can follow the following steps.\n",
    "- Write a script to extract the necessary features from the smaller subset of data\n",
    "- Ensure that your script is scalable, using the best practices discussed in Lesson 3\n",
    "- Try your script on the full data set, debugging your script if necessary\n",
    "\n",
    "If you are working in the classroom workspace, you can just extract features based on the small subset of data contained here. Be sure to transfer over this work to the larger dataset when you work on your Spark cluster."
   ]
  },
  {
   "cell_type": "code",
   "execution_count": null,
   "metadata": {},
   "outputs": [],
   "source": []
  },
  {
   "cell_type": "code",
   "execution_count": 12,
   "metadata": {},
   "outputs": [],
   "source": [
    "# Timestamp column - extract number of days registered\n",
    "df = df.withColumn(\"TimeRegistered\", df.ts - df.registration)\n",
    "df = df.withColumn(\"TimeRegisteredSeconds\", df.TimeRegistered / 1000)\n",
    "df = df.withColumn(\"DaysRegistered\", F.ceil(df.TimeRegisteredSeconds / (60*60*24)))"
   ]
  },
  {
   "cell_type": "code",
   "execution_count": null,
   "metadata": {},
   "outputs": [],
   "source": []
  },
  {
   "cell_type": "code",
   "execution_count": 13,
   "metadata": {},
   "outputs": [],
   "source": [
    "# Count the number of different songs a user has listend to\n",
    "songs_by_user = df.select('userId', 'song').dropDuplicates().groupBy('userId').count()\n",
    "songs_by_user = songs_by_user.withColumnRenamed(\"count\", \"NumberOfDifferentSongs\")"
   ]
  },
  {
   "cell_type": "code",
   "execution_count": 14,
   "metadata": {},
   "outputs": [],
   "source": [
    "# Compute total, mean and std of the length of songs a user has listened to \n",
    "total_length_by_user = df.select('userId', 'length').groupBy('userId').sum()\n",
    "total_length_by_user = total_length_by_user.withColumnRenamed(\"sum(length)\", \"TotalLength\")\n",
    "\n",
    "avg_length_by_user = df.select('userId', 'length').groupBy('userId').mean()\n",
    "avg_length_by_user = avg_length_by_user.withColumnRenamed(\"avg(length)\", \"AvgLength\")\n",
    "\n",
    "std_length_by_user = df.select('userId', 'length').groupBy('userId').agg(F.stddev('length'))\n",
    "std_length_by_user = std_length_by_user.withColumnRenamed(\"stddev_samp(length)\", \"StdLength\")"
   ]
  },
  {
   "cell_type": "code",
   "execution_count": 15,
   "metadata": {},
   "outputs": [
    {
     "name": "stdout",
     "output_type": "stream",
     "text": [
      "+-----------+-----+\n",
      "|      State|count|\n",
      "+-----------+-----+\n",
      "|         CA|38271|\n",
      "|         TX|19296|\n",
      "|   NY-NJ-PA|19268|\n",
      "|      MA-NH|11415|\n",
      "|         FL|10729|\n",
      "|         NC| 8729|\n",
      "|      NC-SC| 6433|\n",
      "|         CO| 6198|\n",
      "|         MI| 5914|\n",
      "|         NJ| 5881|\n",
      "|      KY-IN| 5664|\n",
      "|         CT| 5545|\n",
      "|PA-NJ-DE-MD| 4799|\n",
      "|   IL-IN-WI| 4088|\n",
      "|         NH| 4007|\n",
      "|         AZ| 3956|\n",
      "|      MO-IL| 3923|\n",
      "|         MS| 3909|\n",
      "|         VA| 3885|\n",
      "|         NY| 3704|\n",
      "+-----------+-----+\n",
      "only showing top 20 rows\n",
      "\n"
     ]
    }
   ],
   "source": [
    "# Extract the US state of the user (occurs after the comma, as in 'Bakersfield, CA')\n",
    "extract_state = F.udf(lambda x: \"Missing\" if x == '' else (x.split(\", \")[1]), StringType())\n",
    "df = df.withColumn(\"State\", extract_state(df.location))\n",
    "df.groupBy('State').count().orderBy(F.desc('count')).show()"
   ]
  },
  {
   "cell_type": "code",
   "execution_count": 16,
   "metadata": {},
   "outputs": [
    {
     "data": {
      "text/plain": [
       "[Row(userId='100010', userAgent='\"Mozilla/5.0 (iPhone; CPU iPhone OS 7_1_2 like Mac OS X) AppleWebKit/537.51.2 (KHTML, like Gecko) Version/7.0 Mobile/11D257 Safari/9537.53\"', State='CT', level='free', itemInSession=33, gender='F', DaysRegistered=56),\n",
       " Row(userId='200002', userAgent='\"Mozilla/5.0 (iPhone; CPU iPhone OS 7_1 like Mac OS X) AppleWebKit/537.51.2 (KHTML, like Gecko) Version/7.0 Mobile/11D167 Safari/9537.53\"', State='IL-IN-WI', level='paid', itemInSession=142, gender='M', DaysRegistered=71),\n",
       " Row(userId='125', userAgent='\"Mozilla/5.0 (Macintosh; Intel Mac OS X 10_9_4) AppleWebKit/537.36 (KHTML, like Gecko) Chrome/36.0.1985.125 Safari/537.36\"', State='TX', level='free', itemInSession=7, gender='M', DaysRegistered=72),\n",
       " Row(userId='124', userAgent='\"Mozilla/5.0 (Macintosh; Intel Mac OS X 10_9_4) AppleWebKit/537.36 (KHTML, like Gecko) Chrome/36.0.1985.143 Safari/537.36\"', State='NJ', level='paid', itemInSession=125, gender='F', DaysRegistered=131),\n",
       " Row(userId='51', userAgent='\"Mozilla/5.0 (Windows NT 6.1; WOW64) AppleWebKit/537.36 (KHTML, like Gecko) Chrome/36.0.1985.143 Safari/537.36\"', State='KY', level='paid', itemInSession=173, gender='M', DaysRegistered=20)]"
      ]
     },
     "execution_count": 16,
     "metadata": {},
     "output_type": "execute_result"
    }
   ],
   "source": [
    "# Only keep relevant columns for analysis and consoliate dataframe by user\n",
    "# Keep only the latest level data for a user - the last access by a user is with high likelihood also when he churned\n",
    "df_by_user = df.select(['userId', 'userAgent', 'State', 'level', 'itemInSession', 'gender', 'DaysRegistered']).orderBy(F.desc('ts')).dropDuplicates(['userId'])\n",
    "df_by_user.head(5)\n",
    "\n"
   ]
  },
  {
   "cell_type": "code",
   "execution_count": 17,
   "metadata": {},
   "outputs": [],
   "source": [
    "# Define string indexer to convert level, state and gender into numeric columns\n",
    "\n",
    "level_indexer = StringIndexer(inputCol=\"level\", outputCol=\"NumLevel\")\n",
    "state_indexer = StringIndexer(inputCol=\"State\", outputCol=\"NumState\")\n",
    "gender_indexer = StringIndexer(inputCol=\"gender\", outputCol=\"NumGender\")\n",
    "agent_indexer = StringIndexer(inputCol=\"userAgent\", outputCol=\"NumAgent\")\n",
    "\n",
    "df_by_user = level_indexer.fit(df_by_user).transform(df_by_user)\n",
    "df_by_user = state_indexer.fit(df_by_user).transform(df_by_user)\n",
    "df_by_user = gender_indexer.fit(df_by_user).transform(df_by_user)\n",
    "df_by_user = agent_indexer.fit(df_by_user).transform(df_by_user)"
   ]
  },
  {
   "cell_type": "code",
   "execution_count": 18,
   "metadata": {},
   "outputs": [
    {
     "data": {
      "text/plain": [
       "[Row(userId='100010', userAgent='\"Mozilla/5.0 (iPhone; CPU iPhone OS 7_1_2 like Mac OS X) AppleWebKit/537.51.2 (KHTML, like Gecko) Version/7.0 Mobile/11D257 Safari/9537.53\"', State='CT', level='free', itemInSession=33, gender='F', DaysRegistered=56, NumLevel=1.0, NumState=5.0, NumGender=1.0, NumAgent=8.0, NumberOfDifferentSongs=269, TotalLength=66940.89735000003, AvgLength=243.421444909091, StdLength=79.5156544698794, SharePositiveInteractions=0.800524934383202, ShareNegativeInteractions=0.01837270341207349, label=0),\n",
       " Row(userId='200002', userAgent='\"Mozilla/5.0 (iPhone; CPU iPhone OS 7_1 like Mac OS X) AppleWebKit/537.51.2 (KHTML, like Gecko) Version/7.0 Mobile/11D167 Safari/9537.53\"', State='IL-IN-WI', level='paid', itemInSession=142, gender='M', DaysRegistered=71, NumLevel=0.0, NumState=7.0, NumGender=0.0, NumAgent=14.0, NumberOfDifferentSongs=378, TotalLength=94008.87593999993, AvgLength=242.91699209302305, StdLength=75.447490312729, SharePositiveInteractions=0.890295358649789, ShareNegativeInteractions=0.027426160337552744, label=0),\n",
       " Row(userId='125', userAgent='\"Mozilla/5.0 (Macintosh; Intel Mac OS X 10_9_4) AppleWebKit/537.36 (KHTML, like Gecko) Chrome/36.0.1985.125 Safari/537.36\"', State='TX', level='free', itemInSession=7, gender='M', DaysRegistered=72, NumLevel=1.0, NumState=1.0, NumGender=0.0, NumAgent=2.0, NumberOfDifferentSongs=8, TotalLength=2089.1131000000005, AvgLength=261.13913750000006, StdLength=78.1110647194169, SharePositiveInteractions=0.7272727272727273, ShareNegativeInteractions=0.0, label=1),\n",
       " Row(userId='124', userAgent='\"Mozilla/5.0 (Macintosh; Intel Mac OS X 10_9_4) AppleWebKit/537.36 (KHTML, like Gecko) Chrome/36.0.1985.143 Safari/537.36\"', State='NJ', level='paid', itemInSession=125, gender='F', DaysRegistered=131, NumLevel=0.0, NumState=30.0, NumGender=1.0, NumAgent=4.0, NumberOfDifferentSongs=3339, TotalLength=1012312.0927899999, AvgLength=248.17653659965674, StdLength=99.33044264553511, SharePositiveInteractions=0.9206217616580311, ShareNegativeInteractions=0.02300518134715026, label=0),\n",
       " Row(userId='51', userAgent='\"Mozilla/5.0 (Windows NT 6.1; WOW64) AppleWebKit/537.36 (KHTML, like Gecko) Chrome/36.0.1985.143 Safari/537.36\"', State='KY', level='paid', itemInSession=173, gender='M', DaysRegistered=20, NumLevel=0.0, NumState=22.0, NumGender=0.0, NumAgent=0.0, NumberOfDifferentSongs=1854, TotalLength=523275.8428000004, AvgLength=247.88055082899118, StdLength=104.57060972073867, SharePositiveInteractions=0.929788961038961, ShareNegativeInteractions=0.023133116883116884, label=1)]"
      ]
     },
     "execution_count": 18,
     "metadata": {},
     "output_type": "execute_result"
    }
   ],
   "source": [
    "# Merge dataframes into one dataframe in which one row corresponds to a user with features and label (\"churn\")\n",
    "\n",
    "df_modelling = df_by_user.join(songs_by_user, ['userId'], 'left')\n",
    "\n",
    "for dataframe in [total_length_by_user, avg_length_by_user, std_length_by_user, pages_by_user, label_user]: \n",
    "    \n",
    "    df_modelling = df_modelling.join(dataframe, ['userId'], 'left')\n",
    "\n",
    "df_modelling.head(5)"
   ]
  },
  {
   "cell_type": "code",
   "execution_count": 36,
   "metadata": {},
   "outputs": [
    {
     "name": "stdout",
     "output_type": "stream",
     "text": [
      "      SharePositiveInteractions           ShareNegativeInteractions          \n",
      "                           mean       std                      mean       std\n",
      "label                                                                        \n",
      "0                      0.889620  0.048152                  0.020061  0.008957\n",
      "1                      0.851726  0.074018                  0.024420  0.010513\n"
     ]
    },
    {
     "data": {
      "image/png": "[encoded data removed]",
      "text/plain": [
       "<Figure size 402.375x360 with 1 Axes>"
      ]
     },
     "metadata": {
      "needs_background": "light"
     },
     "output_type": "display_data"
    }
   ],
   "source": [
    "visualization = df_modelling.toPandas()\n",
    "\n",
    "print(visualization.groupby(\"label\")[\"SharePositiveInteractions\", \"ShareNegativeInteractions\"].agg(['mean', 'std']))\n",
    "\n",
    "sns.displot(visualization, x=\"DaysRegistered\", hue=\"label\", kind=\"kde\")\n",
    "plt.savefig(\"DensityDaysRegistered.png\")"
   ]
  },
  {
   "cell_type": "code",
   "execution_count": 33,
   "metadata": {},
   "outputs": [
    {
     "data": {
      "image/png": "[encoded data removed]",
      "text/plain": [
       "<Figure size 402.375x360 with 1 Axes>"
      ]
     },
     "metadata": {
      "needs_background": "light"
     },
     "output_type": "display_data"
    }
   ],
   "source": [
    "sns.displot(visualization, x=\"SharePositiveInteractions\", hue=\"label\", kind=\"kde\")\n",
    "plt.savefig(\"DensityPositiveInteractions.png\")"
   ]
  },
  {
   "cell_type": "code",
   "execution_count": 35,
   "metadata": {},
   "outputs": [
    {
     "data": {
      "image/png": "[encoded data removed]",
      "text/plain": [
       "<Figure size 402.375x360 with 1 Axes>"
      ]
     },
     "metadata": {
      "needs_background": "light"
     },
     "output_type": "display_data"
    }
   ],
   "source": [
    "sns.displot(visualization, x=\"ShareNegativeInteractions\", hue=\"label\", kind=\"kde\")\n",
    "plt.savefig(\"DensityNegativeInteractions.png\")"
   ]
  },
  {
   "cell_type": "code",
   "execution_count": 38,
   "metadata": {},
   "outputs": [
    {
     "data": {
      "image/png": "[encoded data removed]",
      "text/plain": [
       "<Figure size 432x288 with 1 Axes>"
      ]
     },
     "metadata": {
      "needs_background": "light"
     },
     "output_type": "display_data"
    }
   ],
   "source": [
    "sns.barplot(data=visualization, x=\"gender\", y=\"label\")\n",
    "plt.savefig(\"BarPlotGender.png\")"
   ]
  },
  {
   "cell_type": "code",
   "execution_count": 37,
   "metadata": {},
   "outputs": [
    {
     "data": {
      "image/png": "[encoded data removed]",
      "text/plain": [
       "<Figure size 402.375x360 with 1 Axes>"
      ]
     },
     "metadata": {
      "needs_background": "light"
     },
     "output_type": "display_data"
    }
   ],
   "source": [
    "sns.displot(visualization, x=\"TotalLength\", hue=\"label\", kind=\"kde\")\n"
   ]
  },
  {
   "cell_type": "code",
   "execution_count": 24,
   "metadata": {},
   "outputs": [
    {
     "data": {
      "text/plain": [
       "<seaborn.axisgrid.FacetGrid at 0x7fbbb5d00b00>"
      ]
     },
     "execution_count": 24,
     "metadata": {},
     "output_type": "execute_result"
    },
    {
     "data": {
      "image/png": "[encoded data removed]",
      "text/plain": [
       "<Figure size 402.375x360 with 1 Axes>"
      ]
     },
     "metadata": {
      "needs_background": "light"
     },
     "output_type": "display_data"
    }
   ],
   "source": [
    "sns.displot(visualization, x=\"AvgLength\", hue=\"label\", kind=\"kde\")"
   ]
  },
  {
   "cell_type": "code",
   "execution_count": 25,
   "metadata": {},
   "outputs": [
    {
     "data": {
      "text/plain": [
       "<seaborn.axisgrid.FacetGrid at 0x7fbbb5b507b8>"
      ]
     },
     "execution_count": 25,
     "metadata": {},
     "output_type": "execute_result"
    },
    {
     "data": {
      "image/png": "[encoded data removed]",
      "text/plain": [
       "<Figure size 402.375x360 with 1 Axes>"
      ]
     },
     "metadata": {
      "needs_background": "light"
     },
     "output_type": "display_data"
    }
   ],
   "source": [
    "sns.displot(visualization, x=\"StdLength\", hue=\"label\", kind=\"kde\")"
   ]
  },
  {
   "cell_type": "markdown",
   "metadata": {},
   "source": [
    "# Modeling\n",
    "Split the full dataset into train, test, and validation sets. Test out several of the machine learning methods you learned. Evaluate the accuracy of the various models, tuning parameters as necessary. Determine your winning model based on test accuracy and report results on the validation set. Since the churned users are a fairly small subset, I suggest using F1 score as the metric to optimize."
   ]
  },
  {
   "cell_type": "code",
   "execution_count": 26,
   "metadata": {},
   "outputs": [
    {
     "data": {
      "text/plain": [
       "['userId',\n",
       " 'userAgent',\n",
       " 'State',\n",
       " 'level',\n",
       " 'itemInSession',\n",
       " 'gender',\n",
       " 'DaysRegistered',\n",
       " 'NumLevel',\n",
       " 'NumState',\n",
       " 'NumGender',\n",
       " 'NumAgent',\n",
       " 'NumberOfDifferentSongs',\n",
       " 'TotalLength',\n",
       " 'AvgLength',\n",
       " 'StdLength',\n",
       " 'SharePositiveInteractions',\n",
       " 'ShareNegativeInteractions',\n",
       " 'label']"
      ]
     },
     "execution_count": 26,
     "metadata": {},
     "output_type": "execute_result"
    }
   ],
   "source": [
    "## Modelling\n",
    "\n",
    "# Split data into train and test \n",
    "\n",
    "train, test = df_modelling.randomSplit([0.9, 0.1], seed=42)\n",
    "train.head()\n",
    "train.columns"
   ]
  },
  {
   "cell_type": "code",
   "execution_count": 27,
   "metadata": {},
   "outputs": [],
   "source": [
    "# Define class for F1Binary Evaluator (taken from https://stackoverflow.com/a/68280339 )\n",
    "\n",
    "class F1BinaryEvaluator():\n",
    "\n",
    "    def __init__(self, predCol=\"prediction\", labelCol=\"label\", metricLabel=1.0):\n",
    "        self.labelCol = labelCol\n",
    "        self.predCol = predCol\n",
    "        self.metricLabel = metricLabel\n",
    "\n",
    "    def isLargerBetter(self):\n",
    "        return True\n",
    "\n",
    "    def evaluate(self, dataframe):\n",
    "        tp = dataframe.filter(self.labelCol + ' = ' + str(self.metricLabel) + ' and ' + self.predCol + ' = ' + str(self.metricLabel)).count()\n",
    "        fp = dataframe.filter(self.labelCol + ' != ' + str(self.metricLabel) + ' and ' + self.predCol + ' = ' + str(self.metricLabel)).count()\n",
    "        fn = dataframe.filter(self.labelCol + ' = ' + str(self.metricLabel) + ' and ' + self.predCol + ' != ' + str(self.metricLabel)).count()\n",
    "        return tp / (tp + (.5 * (fn +fp)))"
   ]
  },
  {
   "cell_type": "code",
   "execution_count": 28,
   "metadata": {},
   "outputs": [
    {
     "data": {
      "text/plain": [
       "[Row(userId='3', userAgent='\"Mozilla/5.0 (Windows NT 6.1; WOW64) AppleWebKit/537.36 (KHTML, like Gecko) Chrome/36.0.1985.143 Safari/537.36\"', State='MT', level='paid', itemInSession=42, gender='M', DaysRegistered=81, NumLevel=0.0, NumState=34.0, NumGender=0.0, NumAgent=0.0, NumberOfDifferentSongs=211, TotalLength=54424.74544000001, AvgLength=254.32124037383184, StdLength=100.24422772287342, SharePositiveInteractions=0.9173228346456693, ShareNegativeInteractions=0.023622047244094488, label=1, features=DenseVector([81.0, 0.0, 34.0, 0.0, 0.0, 211.0, 54424.7454, 254.3212, 100.2442, 0.9173, 0.0236]), scaledfeatures=DenseVector([2.2719, 0.0, 2.2906, 0.0, 0.0, 0.2344, 0.1961, 42.0079, 5.4149, 15.8708, 2.4417]), rawPrediction=DenseVector([1.0205, -1.0205]), probability=DenseVector([0.7351, 0.2649]), prediction=0.0),\n",
       " Row(userId='100022', userAgent='Mozilla/5.0 (Macintosh; Intel Mac OS X 10.9; rv:31.0) Gecko/20100101 Firefox/31.0', State='TX', level='free', itemInSession=14, gender='F', DaysRegistered=48, NumLevel=1.0, NumState=1.0, NumGender=1.0, NumAgent=7.0, NumberOfDifferentSongs=634, TotalLength=168612.26269000006, AvgLength=247.5950993979443, StdLength=119.75949541369492, SharePositiveInteractions=0.7863070539419087, ShareNegativeInteractions=0.028008298755186723, label=1, features=DenseVector([48.0, 1.0, 1.0, 1.0, 7.0, 634.0, 168612.2627, 247.5951, 119.7595, 0.7863, 0.028]), scaledfeatures=DenseVector([1.3463, 2.0681, 0.0674, 1.9991, 0.5285, 0.7042, 0.6074, 40.8969, 6.4691, 13.604, 2.8951]), rawPrediction=DenseVector([0.1626, -0.1626]), probability=DenseVector([0.5406, 0.4594]), prediction=0.0),\n",
       " Row(userId='100005', userAgent='\"Mozilla/5.0 (Macintosh; Intel Mac OS X 10_9_4) AppleWebKit/537.36 (KHTML, like Gecko) Chrome/36.0.1985.125 Safari/537.36\"', State='LA', level='free', itemInSession=69, gender='M', DaysRegistered=86, NumLevel=1.0, NumState=36.0, NumGender=0.0, NumAgent=2.0, NumberOfDifferentSongs=153, TotalLength=37037.12201000001, AvgLength=240.50079227272732, StdLength=67.41038257581488, SharePositiveInteractions=0.7916666666666666, ShareNegativeInteractions=0.023148148148148147, label=1, features=DenseVector([86.0, 1.0, 36.0, 0.0, 2.0, 153.0, 37037.122, 240.5008, 67.4104, 0.7917, 0.0231]), scaledfeatures=DenseVector([2.4121, 2.0681, 2.4254, 0.0, 0.151, 0.1699, 0.1334, 39.7251, 3.6413, 13.6968, 2.3927]), rawPrediction=DenseVector([0.5648, -0.5648]), probability=DenseVector([0.6376, 0.3624]), prediction=0.0),\n",
       " Row(userId='120', userAgent='\"Mozilla/5.0 (Macintosh; Intel Mac OS X 10_9_4) AppleWebKit/537.36 (KHTML, like Gecko) Chrome/36.0.1985.143 Safari/537.36\"', State='OK', level='paid', itemInSession=40, gender='F', DaysRegistered=129, NumLevel=0.0, NumState=49.0, NumGender=1.0, NumAgent=4.0, NumberOfDifferentSongs=1424, TotalLength=392401.49500000005, AvgLength=249.77816359007005, StdLength=92.18950727987331, SharePositiveInteractions=0.9326818675352877, ShareNegativeInteractions=0.02062975027144408, label=0, features=DenseVector([129.0, 0.0, 49.0, 1.0, 4.0, 1424.0, 392401.495, 249.7782, 92.1895, 0.9327, 0.0206]), scaledfeatures=DenseVector([3.6182, 0.0, 3.3012, 1.9991, 0.302, 1.5817, 1.4136, 41.2575, 4.9798, 16.1365, 2.1324]), rawPrediction=DenseVector([3.0406, -3.0406]), probability=DenseVector([0.9544, 0.0456]), prediction=0.0),\n",
       " Row(userId='136', userAgent='\"Mozilla/5.0 (Macintosh; Intel Mac OS X 10_9_4) AppleWebKit/537.77.4 (KHTML, like Gecko) Version/7.0.5 Safari/537.77.4\"', State='NC-SC', level='paid', itemInSession=185, gender='F', DaysRegistered=76, NumLevel=0.0, NumState=6.0, NumGender=1.0, NumAgent=3.0, NumberOfDifferentSongs=1873, TotalLength=528592.4084899989, AvgLength=248.86648233992415, StdLength=101.86722866580453, SharePositiveInteractions=0.9201402415270744, ShareNegativeInteractions=0.022204908453447605, label=0, features=DenseVector([76.0, 0.0, 6.0, 1.0, 3.0, 1873.0, 528592.4085, 248.8665, 101.8672, 0.9201, 0.0222]), scaledfeatures=DenseVector([2.1316, 0.0, 0.4042, 1.9991, 0.2265, 2.0805, 1.9042, 41.1069, 5.5026, 15.9195, 2.2952]), rawPrediction=DenseVector([2.4275, -2.4275]), probability=DenseVector([0.9189, 0.0811]), prediction=0.0),\n",
       " Row(userId='6', userAgent='\"Mozilla/5.0 (Macintosh; Intel Mac OS X 10_9_4) AppleWebKit/537.36 (KHTML, like Gecko) Chrome/36.0.1985.125 Safari/537.36\"', State='TX', level='paid', itemInSession=196, gender='M', DaysRegistered=257, NumLevel=0.0, NumState=1.0, NumGender=0.0, NumAgent=2.0, NumberOfDifferentSongs=2678, TotalLength=787236.5235899985, AvgLength=249.20434428300047, StdLength=89.10367353423266, SharePositiveInteractions=0.9170433395373571, ShareNegativeInteractions=0.026588673225206062, label=0, features=DenseVector([257.0, 0.0, 1.0, 0.0, 2.0, 2678.0, 787236.5236, 249.2043, 89.1037, 0.917, 0.0266]), scaledfeatures=DenseVector([7.2083, 0.0, 0.0674, 0.0, 0.151, 2.9747, 2.836, 41.1627, 4.8131, 15.8659, 2.7483]), rawPrediction=DenseVector([5.4472, -5.4472]), probability=DenseVector([0.9957, 0.0043]), prediction=0.0),\n",
       " Row(userId='144', userAgent='\"Mozilla/5.0 (Macintosh; Intel Mac OS X 10_9_4) AppleWebKit/537.36 (KHTML, like Gecko) Chrome/36.0.1985.125 Safari/537.36\"', State='AL', level='free', itemInSession=29, gender='M', DaysRegistered=99, NumLevel=1.0, NumState=18.0, NumGender=0.0, NumAgent=2.0, NumberOfDifferentSongs=98, TotalLength=24660.383280000002, AvgLength=251.63656408163268, StdLength=86.1274191614315, SharePositiveInteractions=0.872, ShareNegativeInteractions=0.008, label=0, features=DenseVector([99.0, 1.0, 18.0, 0.0, 2.0, 98.0, 24660.3833, 251.6366, 86.1274, 0.872, 0.008]), scaledfeatures=DenseVector([2.7767, 2.0681, 1.2127, 0.0, 0.151, 0.1089, 0.0888, 41.5644, 4.6524, 15.0866, 0.8269]), rawPrediction=DenseVector([1.6271, -1.6271]), probability=DenseVector([0.8358, 0.1642]), prediction=0.0),\n",
       " Row(userId='150', userAgent='\"Mozilla/5.0 (Macintosh; Intel Mac OS X 10_9_4) AppleWebKit/537.36 (KHTML, like Gecko) Chrome/36.0.1985.143 Safari/537.36\"', State='AZ', level='free', itemInSession=2, gender='M', DaysRegistered=124, NumLevel=1.0, NumState=4.0, NumGender=0.0, NumAgent=4.0, NumberOfDifferentSongs=177, TotalLength=46023.83439000002, AvgLength=258.5608673595507, StdLength=97.8142871322991, SharePositiveInteractions=0.8418803418803419, ShareNegativeInteractions=0.004273504273504274, label=0, features=DenseVector([124.0, 1.0, 4.0, 0.0, 4.0, 177.0, 46023.8344, 258.5609, 97.8143, 0.8419, 0.0043]), scaledfeatures=DenseVector([3.4779, 2.0681, 0.2695, 0.0, 0.302, 0.1966, 0.1658, 42.7082, 5.2837, 14.5655, 0.4417]), rawPrediction=DenseVector([1.8935, -1.8935]), probability=DenseVector([0.8692, 0.1308]), prediction=0.0),\n",
       " Row(userId='97', userAgent='\"Mozilla/5.0 (Windows NT 5.1) AppleWebKit/537.36 (KHTML, like Gecko) Chrome/36.0.1985.143 Safari/537.36\"', State='CA', level='paid', itemInSession=26, gender='F', DaysRegistered=88, NumLevel=0.0, NumState=0.0, NumGender=1.0, NumAgent=15.0, NumberOfDifferentSongs=1738, TotalLength=491231.4963500007, AvgLength=248.7248082784814, StdLength=97.32578743440719, SharePositiveInteractions=0.9064059900166389, ShareNegativeInteractions=0.019550748752079867, label=0, features=DenseVector([88.0, 0.0, 0.0, 1.0, 15.0, 1738.0, 491231.4964, 248.7248, 97.3258, 0.9064, 0.0196]), scaledfeatures=DenseVector([2.4682, 0.0, 0.0, 1.9991, 1.1326, 1.9305, 1.7696, 41.0835, 5.2573, 15.6819, 2.0209]), rawPrediction=DenseVector([2.5663, -2.5663]), probability=DenseVector([0.9287, 0.0713]), prediction=0.0),\n",
       " Row(userId='67', userAgent='\"Mozilla/5.0 (Macintosh; Intel Mac OS X 10_10) AppleWebKit/600.1.3 (KHTML, like Gecko) Version/8.0 Safari/600.1.3\"', State='CA', level='paid', itemInSession=81, gender='M', DaysRegistered=139, NumLevel=0.0, NumState=0.0, NumGender=0.0, NumAgent=51.0, NumberOfDifferentSongs=1012, TotalLength=273173.7324599996, AvgLength=248.79210606557342, StdLength=106.51915380352916, SharePositiveInteractions=0.9114977307110439, ShareNegativeInteractions=0.023449319213313162, label=0, features=DenseVector([139.0, 0.0, 0.0, 0.0, 51.0, 1012.0, 273173.7325, 248.7921, 106.5192, 0.9115, 0.0234]), scaledfeatures=DenseVector([3.8986, 0.0, 0.0, 0.0, 3.8508, 1.1241, 0.9841, 41.0946, 5.7539, 15.77, 2.4238]), rawPrediction=DenseVector([2.4956, -2.4956]), probability=DenseVector([0.9238, 0.0762]), prediction=0.0)]"
      ]
     },
     "execution_count": 28,
     "metadata": {},
     "output_type": "execute_result"
    }
   ],
   "source": [
    "## Logistic Regression \n",
    "\n",
    "assembler = VectorAssembler(inputCols=['DaysRegistered', 'NumLevel', 'NumState', 'NumGender', 'NumAgent',\n",
    "                                       'NumberOfDifferentSongs', 'TotalLength', 'AvgLength', 'StdLength', \n",
    "                                       'SharePositiveInteractions', 'ShareNegativeInteractions'], \n",
    "                                       outputCol=\"features\")\n",
    "\n",
    "scaler = StandardScaler(inputCol=\"features\", outputCol=\"scaledfeatures\", withStd=True)\n",
    "#df_modelling = assembler.transform(df_modelling)\n",
    "\n",
    "lr =  LogisticRegression(maxIter=10, elasticNetParam=0, labelCol='label', featuresCol='scaledfeatures')\n",
    "\n",
    "#pipeline_lr = Pipeline(stages=[level_indexer.setHandleInvalid(\"skip\"), state_indexer.setHandleInvalid(\"skip\"), gender_indexer.setHandleInvalid(\"skip\"), assembler.setHandleInvalid(\"skip\"), lr])\n",
    "#pipeline_lr = Pipeline(stages=[level_indexer, state_indexer, gender_indexer, assembler.setHandleInvalid(\"skip\"), lr])\n",
    "pipeline_lr = Pipeline(stages=[assembler.setHandleInvalid('skip'), scaler, lr])\n",
    "\n",
    "paramGrid_lr = ParamGridBuilder() \\\n",
    "    .addGrid(lr.regParam, [0.01, 0.1]) \\\n",
    "    .addGrid(lr.elasticNetParam, [0.0, 0.5, 1.0]) \\\n",
    "    .build()\n",
    "\n",
    "\n",
    "crossval_lr = CrossValidator(estimator=pipeline_lr,\n",
    "                          estimatorParamMaps=paramGrid_lr,\n",
    "                          #evaluator=BinaryEvaluator,\n",
    "                          evaluator=F1BinaryEvaluator(),\n",
    "                          numFolds=3)\n",
    "\n",
    "cval_model_lr = crossval_lr.fit(train)\n",
    "cval_model_lr.avgMetrics\n",
    "\n",
    "results_lr = cval_model_lr.transform(test)\n",
    "results_lr.filter(results_lr.prediction == results_lr.label).count()\n",
    "results_lr.head(10)\n"
   ]
  },
  {
   "cell_type": "code",
   "execution_count": null,
   "metadata": {},
   "outputs": [],
   "source": []
  },
  {
   "cell_type": "code",
   "execution_count": null,
   "metadata": {},
   "outputs": [],
   "source": []
  },
  {
   "cell_type": "code",
   "execution_count": null,
   "metadata": {},
   "outputs": [],
   "source": []
  },
  {
   "cell_type": "code",
   "execution_count": null,
   "metadata": {},
   "outputs": [],
   "source": [
    "\n"
   ]
  },
  {
   "cell_type": "code",
   "execution_count": null,
   "metadata": {},
   "outputs": [],
   "source": []
  },
  {
   "cell_type": "code",
   "execution_count": null,
   "metadata": {},
   "outputs": [],
   "source": []
  },
  {
   "cell_type": "code",
   "execution_count": null,
   "metadata": {},
   "outputs": [],
   "source": []
  },
  {
   "cell_type": "code",
   "execution_count": null,
   "metadata": {},
   "outputs": [],
   "source": []
  },
  {
   "cell_type": "code",
   "execution_count": null,
   "metadata": {},
   "outputs": [],
   "source": []
  },
  {
   "cell_type": "code",
   "execution_count": null,
   "metadata": {},
   "outputs": [],
   "source": []
  },
  {
   "cell_type": "code",
   "execution_count": null,
   "metadata": {},
   "outputs": [],
   "source": []
  },
  {
   "cell_type": "code",
   "execution_count": 29,
   "metadata": {},
   "outputs": [
    {
     "ename": "NameError",
     "evalue": "name 'results' is not defined",
     "output_type": "error",
     "traceback": [
      "\u001b[0;31m---------------------------------------------------------------------------\u001b[0m",
      "\u001b[0;31mNameError\u001b[0m                                 Traceback (most recent call last)",
      "\u001b[0;32m<ipython-input-29-0bac9e5b8dcc>\u001b[0m in \u001b[0;36m<module>\u001b[0;34m()\u001b[0m\n\u001b[0;32m----> 1\u001b[0;31m \u001b[0mtp\u001b[0m \u001b[0;34m=\u001b[0m \u001b[0mresults\u001b[0m\u001b[0;34m.\u001b[0m\u001b[0mfilter\u001b[0m\u001b[0;34m(\u001b[0m\u001b[0mresults\u001b[0m\u001b[0;34m.\u001b[0m\u001b[0mlabel\u001b[0m\u001b[0;34m==\u001b[0m\u001b[0;36m1\u001b[0m\u001b[0;34m)\u001b[0m\u001b[0;34m.\u001b[0m\u001b[0mfilter\u001b[0m\u001b[0;34m(\u001b[0m\u001b[0mresults\u001b[0m\u001b[0;34m.\u001b[0m\u001b[0mprediction\u001b[0m\u001b[0;34m==\u001b[0m\u001b[0;36m1\u001b[0m\u001b[0;34m)\u001b[0m\u001b[0;34m.\u001b[0m\u001b[0mcount\u001b[0m\u001b[0;34m(\u001b[0m\u001b[0;34m)\u001b[0m\u001b[0;34m\u001b[0m\u001b[0m\n\u001b[0m\u001b[1;32m      2\u001b[0m \u001b[0mfp\u001b[0m \u001b[0;34m=\u001b[0m \u001b[0mresults\u001b[0m\u001b[0;34m.\u001b[0m\u001b[0mfilter\u001b[0m\u001b[0;34m(\u001b[0m\u001b[0mresults\u001b[0m\u001b[0;34m.\u001b[0m\u001b[0mlabel\u001b[0m\u001b[0;34m==\u001b[0m\u001b[0;36m0\u001b[0m\u001b[0;34m)\u001b[0m\u001b[0;34m.\u001b[0m\u001b[0mfilter\u001b[0m\u001b[0;34m(\u001b[0m\u001b[0mresults\u001b[0m\u001b[0;34m.\u001b[0m\u001b[0mprediction\u001b[0m\u001b[0;34m==\u001b[0m\u001b[0;36m1\u001b[0m\u001b[0;34m)\u001b[0m\u001b[0;34m.\u001b[0m\u001b[0mcount\u001b[0m\u001b[0;34m(\u001b[0m\u001b[0;34m)\u001b[0m\u001b[0;34m\u001b[0m\u001b[0m\n\u001b[1;32m      3\u001b[0m \u001b[0mfn\u001b[0m \u001b[0;34m=\u001b[0m \u001b[0mresults\u001b[0m\u001b[0;34m.\u001b[0m\u001b[0mfilter\u001b[0m\u001b[0;34m(\u001b[0m\u001b[0mresults\u001b[0m\u001b[0;34m.\u001b[0m\u001b[0mlabel\u001b[0m\u001b[0;34m==\u001b[0m\u001b[0;36m1\u001b[0m\u001b[0;34m)\u001b[0m\u001b[0;34m.\u001b[0m\u001b[0mfilter\u001b[0m\u001b[0;34m(\u001b[0m\u001b[0mresults\u001b[0m\u001b[0;34m.\u001b[0m\u001b[0mprediction\u001b[0m\u001b[0;34m==\u001b[0m\u001b[0;36m0\u001b[0m\u001b[0;34m)\u001b[0m\u001b[0;34m.\u001b[0m\u001b[0mcount\u001b[0m\u001b[0;34m(\u001b[0m\u001b[0;34m)\u001b[0m\u001b[0;34m\u001b[0m\u001b[0m\n",
      "\u001b[0;31mNameError\u001b[0m: name 'results' is not defined"
     ]
    }
   ],
   "source": [
    "tp = results.filter(results.label==1).filter(results.prediction==1).count()\n",
    "fp = results.filter(results.label==0).filter(results.prediction==1).count()\n",
    "fn = results.filter(results.label==1).filter(results.prediction==0).count()"
   ]
  },
  {
   "cell_type": "code",
   "execution_count": null,
   "metadata": {},
   "outputs": [],
   "source": [
    "f1 = tp / (tp + 0.5*(fp+fn))\n",
    "f1"
   ]
  },
  {
   "cell_type": "code",
   "execution_count": null,
   "metadata": {},
   "outputs": [],
   "source": []
  },
  {
   "cell_type": "code",
   "execution_count": null,
   "metadata": {},
   "outputs": [],
   "source": []
  },
  {
   "cell_type": "code",
   "execution_count": null,
   "metadata": {},
   "outputs": [],
   "source": []
  },
  {
   "cell_type": "markdown",
   "metadata": {},
   "source": [
    "# Final Steps\n",
    "Clean up your code, adding comments and renaming variables to make the code easier to read and maintain. Refer to the Spark Project Overview page and Data Scientist Capstone Project Rubric to make sure you are including all components of the capstone project and meet all expectations. Remember, this includes thorough documentation in a README file in a Github repository, as well as a web app or blog post."
   ]
  },
  {
   "cell_type": "code",
   "execution_count": null,
   "metadata": {},
   "outputs": [],
   "source": []
  }
 ],
 "metadata": {
  "kernelspec": {
   "display_name": "Python 3",
   "language": "python",
   "name": "python3"
  },
  "language_info": {
   "codemirror_mode": {
    "name": "ipython",
    "version": 3
   },
   "file_extension": ".py",
   "mimetype": "text/x-python",
   "name": "python",
   "nbconvert_exporter": "python",
   "pygments_lexer": "ipython3",
   "version": "3.6.3"
  }
 },
 "nbformat": 4,
 "nbformat_minor": 2
}
